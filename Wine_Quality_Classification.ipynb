{
 "cells": [
  {
   "cell_type": "markdown",
   "id": "f39ff620",
   "metadata": {},
   "source": [
    "# Problem Statement"
   ]
  },
  {
   "cell_type": "markdown",
   "id": "ab77aa29",
   "metadata": {},
   "source": [
    "We have a dataset consisting of information regarding red wine products which consist ratings given \n",
    "from 0 as lowest to 10 as the highest for the quality of the red wine product involved in observations. \n",
    "The dataset informs about the different combination of compositions of number of attributes used in formulation of that red wine sample which acquired the respective rating. \n",
    "The task or the problem in hand is to figure out for any given combinations of compositions of these attributes,\n",
    "what would be the rating of any given wine sample in the range of 0 as lowest to 10 as the highest for the quality of that red wine sample. With the help of this model the business can formulate a required quality of wine for targeted customer and price\n",
    "range."
   ]
  },
  {
   "cell_type": "markdown",
   "id": "ef2af953",
   "metadata": {},
   "source": [
    "# Approach for Solution-"
   ]
  },
  {
   "cell_type": "markdown",
   "id": "73e8425f",
   "metadata": {},
   "source": [
    "In the available dataset, the target column is 'quality' of the given observations which ranges between 0 to 10 \n",
    "which is fairly low to consider for the application of a multi-class Classification as an approach.\n",
    "But, the problem can be made to understand in a better way by means of target variable transformation into a Binary Classification problem which can be created due to the low range of ordinal categorical nature of the 'quality' target feature.\n",
    "We will hence create the Binary Classification model for the given dataset for the target feature 'quality' where the range of \n",
    "the 'quality' from 0 to 10 will be transformed into Binary outcome as rating<=5 - good(quality) & rating>5 - best(quality).\n",
    "The predictive model will give results for the 'quality' of any given sample and in turn, figuring out which attributes should be used to formulate red wine samples of required rating."
   ]
  },
  {
   "cell_type": "markdown",
   "id": "cafc71fd",
   "metadata": {},
   "source": [
    "# Essential Libraries-"
   ]
  },
  {
   "cell_type": "code",
   "execution_count": 1,
   "id": "bf99d621",
   "metadata": {},
   "outputs": [],
   "source": [
    "import pandas as pd\n",
    "import numpy as np\n",
    "import seaborn as sns\n",
    "import matplotlib.pyplot as plt\n",
    "# from sklearn.tree import DecisionTreeClassifier, plot_tree\n",
    "# from sklearn.ensemble import RandomForestClassifier\n",
    "from sklearn.preprocessing import MinMaxScaler, StandardScaler\n",
    "from sklearn.metrics import accuracy_score, precision_score, recall_score, f1_score, classification_report,roc_auc_score,roc_curve\n",
    "from sklearn.model_selection import GridSearchCV, RandomizedSearchCV\n",
    "from sklearn.model_selection import train_test_split\n",
    "import warnings\n",
    "warnings.filterwarnings('ignore')"
   ]
  },
  {
   "cell_type": "markdown",
   "id": "6895485c",
   "metadata": {},
   "source": [
    "# Loading of Dataset\\Data Collection -"
   ]
  },
  {
   "cell_type": "code",
   "execution_count": 2,
   "id": "c85bc3d4",
   "metadata": {},
   "outputs": [
    {
     "data": {
      "text/html": [
       "<div>\n",
       "<style scoped>\n",
       "    .dataframe tbody tr th:only-of-type {\n",
       "        vertical-align: middle;\n",
       "    }\n",
       "\n",
       "    .dataframe tbody tr th {\n",
       "        vertical-align: top;\n",
       "    }\n",
       "\n",
       "    .dataframe thead th {\n",
       "        text-align: right;\n",
       "    }\n",
       "</style>\n",
       "<table border=\"1\" class=\"dataframe\">\n",
       "  <thead>\n",
       "    <tr style=\"text-align: right;\">\n",
       "      <th></th>\n",
       "      <th>fixed acidity</th>\n",
       "      <th>volatile acidity</th>\n",
       "      <th>citric acid</th>\n",
       "      <th>residual sugar</th>\n",
       "      <th>chlorides</th>\n",
       "      <th>free sulfur dioxide</th>\n",
       "      <th>total sulfur dioxide</th>\n",
       "      <th>density</th>\n",
       "      <th>pH</th>\n",
       "      <th>sulphates</th>\n",
       "      <th>alcohol</th>\n",
       "      <th>quality</th>\n",
       "    </tr>\n",
       "  </thead>\n",
       "  <tbody>\n",
       "    <tr>\n",
       "      <th>0</th>\n",
       "      <td>7.4</td>\n",
       "      <td>0.70</td>\n",
       "      <td>0.00</td>\n",
       "      <td>1.9</td>\n",
       "      <td>0.076</td>\n",
       "      <td>11.0</td>\n",
       "      <td>34.0</td>\n",
       "      <td>0.9978</td>\n",
       "      <td>3.51</td>\n",
       "      <td>0.56</td>\n",
       "      <td>9.4</td>\n",
       "      <td>5</td>\n",
       "    </tr>\n",
       "    <tr>\n",
       "      <th>1</th>\n",
       "      <td>7.8</td>\n",
       "      <td>0.88</td>\n",
       "      <td>0.00</td>\n",
       "      <td>2.6</td>\n",
       "      <td>0.098</td>\n",
       "      <td>25.0</td>\n",
       "      <td>67.0</td>\n",
       "      <td>0.9968</td>\n",
       "      <td>3.20</td>\n",
       "      <td>0.68</td>\n",
       "      <td>9.8</td>\n",
       "      <td>5</td>\n",
       "    </tr>\n",
       "    <tr>\n",
       "      <th>2</th>\n",
       "      <td>7.8</td>\n",
       "      <td>0.76</td>\n",
       "      <td>0.04</td>\n",
       "      <td>2.3</td>\n",
       "      <td>0.092</td>\n",
       "      <td>15.0</td>\n",
       "      <td>54.0</td>\n",
       "      <td>0.9970</td>\n",
       "      <td>3.26</td>\n",
       "      <td>0.65</td>\n",
       "      <td>9.8</td>\n",
       "      <td>5</td>\n",
       "    </tr>\n",
       "    <tr>\n",
       "      <th>3</th>\n",
       "      <td>11.2</td>\n",
       "      <td>0.28</td>\n",
       "      <td>0.56</td>\n",
       "      <td>1.9</td>\n",
       "      <td>0.075</td>\n",
       "      <td>17.0</td>\n",
       "      <td>60.0</td>\n",
       "      <td>0.9980</td>\n",
       "      <td>3.16</td>\n",
       "      <td>0.58</td>\n",
       "      <td>9.8</td>\n",
       "      <td>6</td>\n",
       "    </tr>\n",
       "    <tr>\n",
       "      <th>4</th>\n",
       "      <td>7.4</td>\n",
       "      <td>0.70</td>\n",
       "      <td>0.00</td>\n",
       "      <td>1.9</td>\n",
       "      <td>0.076</td>\n",
       "      <td>11.0</td>\n",
       "      <td>34.0</td>\n",
       "      <td>0.9978</td>\n",
       "      <td>3.51</td>\n",
       "      <td>0.56</td>\n",
       "      <td>9.4</td>\n",
       "      <td>5</td>\n",
       "    </tr>\n",
       "  </tbody>\n",
       "</table>\n",
       "</div>"
      ],
      "text/plain": [
       "   fixed acidity  volatile acidity  citric acid  residual sugar  chlorides  \\\n",
       "0            7.4              0.70         0.00             1.9      0.076   \n",
       "1            7.8              0.88         0.00             2.6      0.098   \n",
       "2            7.8              0.76         0.04             2.3      0.092   \n",
       "3           11.2              0.28         0.56             1.9      0.075   \n",
       "4            7.4              0.70         0.00             1.9      0.076   \n",
       "\n",
       "   free sulfur dioxide  total sulfur dioxide  density    pH  sulphates  \\\n",
       "0                 11.0                  34.0   0.9978  3.51       0.56   \n",
       "1                 25.0                  67.0   0.9968  3.20       0.68   \n",
       "2                 15.0                  54.0   0.9970  3.26       0.65   \n",
       "3                 17.0                  60.0   0.9980  3.16       0.58   \n",
       "4                 11.0                  34.0   0.9978  3.51       0.56   \n",
       "\n",
       "   alcohol  quality  \n",
       "0      9.4        5  \n",
       "1      9.8        5  \n",
       "2      9.8        5  \n",
       "3      9.8        6  \n",
       "4      9.4        5  "
      ]
     },
     "execution_count": 2,
     "metadata": {},
     "output_type": "execute_result"
    }
   ],
   "source": [
    "wine = pd.read_csv('winequality-red.csv')\n",
    "wine.head() "
   ]
  },
  {
   "cell_type": "markdown",
   "id": "07c4e71c",
   "metadata": {},
   "source": [
    "# Initial Data Study"
   ]
  },
  {
   "cell_type": "code",
   "execution_count": 3,
   "id": "47cca90d",
   "metadata": {},
   "outputs": [
    {
     "data": {
      "text/plain": [
       "(1599, 12)"
      ]
     },
     "execution_count": 3,
     "metadata": {},
     "output_type": "execute_result"
    }
   ],
   "source": [
    "wine.shape"
   ]
  },
  {
   "cell_type": "code",
   "execution_count": 4,
   "id": "fc8369e5",
   "metadata": {},
   "outputs": [
    {
     "name": "stdout",
     "output_type": "stream",
     "text": [
      "<class 'pandas.core.frame.DataFrame'>\n",
      "RangeIndex: 1599 entries, 0 to 1598\n",
      "Data columns (total 12 columns):\n",
      " #   Column                Non-Null Count  Dtype  \n",
      "---  ------                --------------  -----  \n",
      " 0   fixed acidity         1599 non-null   float64\n",
      " 1   volatile acidity      1599 non-null   float64\n",
      " 2   citric acid           1599 non-null   float64\n",
      " 3   residual sugar        1599 non-null   float64\n",
      " 4   chlorides             1599 non-null   float64\n",
      " 5   free sulfur dioxide   1599 non-null   float64\n",
      " 6   total sulfur dioxide  1599 non-null   float64\n",
      " 7   density               1599 non-null   float64\n",
      " 8   pH                    1599 non-null   float64\n",
      " 9   sulphates             1599 non-null   float64\n",
      " 10  alcohol               1599 non-null   float64\n",
      " 11  quality               1599 non-null   int64  \n",
      "dtypes: float64(11), int64(1)\n",
      "memory usage: 150.0 KB\n"
     ]
    }
   ],
   "source": [
    "wine.info()\n",
    "\n",
    "#Here we observed that datatypes of dataframe are appropriate, we might not require datatype conversion process"
   ]
  },
  {
   "cell_type": "code",
   "execution_count": 5,
   "id": "01017b09",
   "metadata": {},
   "outputs": [
    {
     "data": {
      "text/plain": [
       "Index(['fixed acidity', 'volatile acidity', 'citric acid', 'residual sugar',\n",
       "       'chlorides', 'free sulfur dioxide', 'total sulfur dioxide', 'density',\n",
       "       'pH', 'sulphates', 'alcohol', 'quality'],\n",
       "      dtype='object')"
      ]
     },
     "execution_count": 5,
     "metadata": {},
     "output_type": "execute_result"
    }
   ],
   "source": [
    "wine.columns"
   ]
  },
  {
   "cell_type": "code",
   "execution_count": 6,
   "id": "b840ccb0",
   "metadata": {},
   "outputs": [
    {
     "data": {
      "text/html": [
       "<div>\n",
       "<style scoped>\n",
       "    .dataframe tbody tr th:only-of-type {\n",
       "        vertical-align: middle;\n",
       "    }\n",
       "\n",
       "    .dataframe tbody tr th {\n",
       "        vertical-align: top;\n",
       "    }\n",
       "\n",
       "    .dataframe thead th {\n",
       "        text-align: right;\n",
       "    }\n",
       "</style>\n",
       "<table border=\"1\" class=\"dataframe\">\n",
       "  <thead>\n",
       "    <tr style=\"text-align: right;\">\n",
       "      <th></th>\n",
       "      <th>fixed acidity</th>\n",
       "      <th>volatile acidity</th>\n",
       "      <th>citric acid</th>\n",
       "      <th>residual sugar</th>\n",
       "      <th>chlorides</th>\n",
       "      <th>free sulfur dioxide</th>\n",
       "      <th>total sulfur dioxide</th>\n",
       "      <th>density</th>\n",
       "      <th>pH</th>\n",
       "      <th>sulphates</th>\n",
       "      <th>alcohol</th>\n",
       "      <th>quality</th>\n",
       "    </tr>\n",
       "  </thead>\n",
       "  <tbody>\n",
       "    <tr>\n",
       "      <th>count</th>\n",
       "      <td>1599.000000</td>\n",
       "      <td>1599.000000</td>\n",
       "      <td>1599.000000</td>\n",
       "      <td>1599.000000</td>\n",
       "      <td>1599.000000</td>\n",
       "      <td>1599.000000</td>\n",
       "      <td>1599.000000</td>\n",
       "      <td>1599.000000</td>\n",
       "      <td>1599.000000</td>\n",
       "      <td>1599.000000</td>\n",
       "      <td>1599.000000</td>\n",
       "      <td>1599.000000</td>\n",
       "    </tr>\n",
       "    <tr>\n",
       "      <th>mean</th>\n",
       "      <td>8.319637</td>\n",
       "      <td>0.527821</td>\n",
       "      <td>0.270976</td>\n",
       "      <td>2.538806</td>\n",
       "      <td>0.087467</td>\n",
       "      <td>15.874922</td>\n",
       "      <td>46.467792</td>\n",
       "      <td>0.996747</td>\n",
       "      <td>3.311113</td>\n",
       "      <td>0.658149</td>\n",
       "      <td>10.422983</td>\n",
       "      <td>5.636023</td>\n",
       "    </tr>\n",
       "    <tr>\n",
       "      <th>std</th>\n",
       "      <td>1.741096</td>\n",
       "      <td>0.179060</td>\n",
       "      <td>0.194801</td>\n",
       "      <td>1.409928</td>\n",
       "      <td>0.047065</td>\n",
       "      <td>10.460157</td>\n",
       "      <td>32.895324</td>\n",
       "      <td>0.001887</td>\n",
       "      <td>0.154386</td>\n",
       "      <td>0.169507</td>\n",
       "      <td>1.065668</td>\n",
       "      <td>0.807569</td>\n",
       "    </tr>\n",
       "    <tr>\n",
       "      <th>min</th>\n",
       "      <td>4.600000</td>\n",
       "      <td>0.120000</td>\n",
       "      <td>0.000000</td>\n",
       "      <td>0.900000</td>\n",
       "      <td>0.012000</td>\n",
       "      <td>1.000000</td>\n",
       "      <td>6.000000</td>\n",
       "      <td>0.990070</td>\n",
       "      <td>2.740000</td>\n",
       "      <td>0.330000</td>\n",
       "      <td>8.400000</td>\n",
       "      <td>3.000000</td>\n",
       "    </tr>\n",
       "    <tr>\n",
       "      <th>25%</th>\n",
       "      <td>7.100000</td>\n",
       "      <td>0.390000</td>\n",
       "      <td>0.090000</td>\n",
       "      <td>1.900000</td>\n",
       "      <td>0.070000</td>\n",
       "      <td>7.000000</td>\n",
       "      <td>22.000000</td>\n",
       "      <td>0.995600</td>\n",
       "      <td>3.210000</td>\n",
       "      <td>0.550000</td>\n",
       "      <td>9.500000</td>\n",
       "      <td>5.000000</td>\n",
       "    </tr>\n",
       "    <tr>\n",
       "      <th>50%</th>\n",
       "      <td>7.900000</td>\n",
       "      <td>0.520000</td>\n",
       "      <td>0.260000</td>\n",
       "      <td>2.200000</td>\n",
       "      <td>0.079000</td>\n",
       "      <td>14.000000</td>\n",
       "      <td>38.000000</td>\n",
       "      <td>0.996750</td>\n",
       "      <td>3.310000</td>\n",
       "      <td>0.620000</td>\n",
       "      <td>10.200000</td>\n",
       "      <td>6.000000</td>\n",
       "    </tr>\n",
       "    <tr>\n",
       "      <th>75%</th>\n",
       "      <td>9.200000</td>\n",
       "      <td>0.640000</td>\n",
       "      <td>0.420000</td>\n",
       "      <td>2.600000</td>\n",
       "      <td>0.090000</td>\n",
       "      <td>21.000000</td>\n",
       "      <td>62.000000</td>\n",
       "      <td>0.997835</td>\n",
       "      <td>3.400000</td>\n",
       "      <td>0.730000</td>\n",
       "      <td>11.100000</td>\n",
       "      <td>6.000000</td>\n",
       "    </tr>\n",
       "    <tr>\n",
       "      <th>max</th>\n",
       "      <td>15.900000</td>\n",
       "      <td>1.580000</td>\n",
       "      <td>1.000000</td>\n",
       "      <td>15.500000</td>\n",
       "      <td>0.611000</td>\n",
       "      <td>72.000000</td>\n",
       "      <td>289.000000</td>\n",
       "      <td>1.003690</td>\n",
       "      <td>4.010000</td>\n",
       "      <td>2.000000</td>\n",
       "      <td>14.900000</td>\n",
       "      <td>8.000000</td>\n",
       "    </tr>\n",
       "  </tbody>\n",
       "</table>\n",
       "</div>"
      ],
      "text/plain": [
       "       fixed acidity  volatile acidity  citric acid  residual sugar  \\\n",
       "count    1599.000000       1599.000000  1599.000000     1599.000000   \n",
       "mean        8.319637          0.527821     0.270976        2.538806   \n",
       "std         1.741096          0.179060     0.194801        1.409928   \n",
       "min         4.600000          0.120000     0.000000        0.900000   \n",
       "25%         7.100000          0.390000     0.090000        1.900000   \n",
       "50%         7.900000          0.520000     0.260000        2.200000   \n",
       "75%         9.200000          0.640000     0.420000        2.600000   \n",
       "max        15.900000          1.580000     1.000000       15.500000   \n",
       "\n",
       "         chlorides  free sulfur dioxide  total sulfur dioxide      density  \\\n",
       "count  1599.000000          1599.000000           1599.000000  1599.000000   \n",
       "mean      0.087467            15.874922             46.467792     0.996747   \n",
       "std       0.047065            10.460157             32.895324     0.001887   \n",
       "min       0.012000             1.000000              6.000000     0.990070   \n",
       "25%       0.070000             7.000000             22.000000     0.995600   \n",
       "50%       0.079000            14.000000             38.000000     0.996750   \n",
       "75%       0.090000            21.000000             62.000000     0.997835   \n",
       "max       0.611000            72.000000            289.000000     1.003690   \n",
       "\n",
       "                pH    sulphates      alcohol      quality  \n",
       "count  1599.000000  1599.000000  1599.000000  1599.000000  \n",
       "mean      3.311113     0.658149    10.422983     5.636023  \n",
       "std       0.154386     0.169507     1.065668     0.807569  \n",
       "min       2.740000     0.330000     8.400000     3.000000  \n",
       "25%       3.210000     0.550000     9.500000     5.000000  \n",
       "50%       3.310000     0.620000    10.200000     6.000000  \n",
       "75%       3.400000     0.730000    11.100000     6.000000  \n",
       "max       4.010000     2.000000    14.900000     8.000000  "
      ]
     },
     "execution_count": 6,
     "metadata": {},
     "output_type": "execute_result"
    }
   ],
   "source": [
    "wine.describe()"
   ]
  },
  {
   "cell_type": "code",
   "execution_count": 7,
   "id": "021ca504",
   "metadata": {},
   "outputs": [
    {
     "data": {
      "text/plain": [
       "fixed acidity            96\n",
       "volatile acidity        143\n",
       "citric acid              80\n",
       "residual sugar           91\n",
       "chlorides               153\n",
       "free sulfur dioxide      60\n",
       "total sulfur dioxide    144\n",
       "density                 436\n",
       "pH                       89\n",
       "sulphates                96\n",
       "alcohol                  65\n",
       "quality                   6\n",
       "dtype: int64"
      ]
     },
     "execution_count": 7,
     "metadata": {},
     "output_type": "execute_result"
    }
   ],
   "source": [
    "#Checking for possible Categorical and Continuous data distinguition\n",
    "#Genereally, unique values>20 makes it a Continuous variable\n",
    "#Hence we can observe, that the target column is the only Categorical column in data.\n",
    "wine.nunique()"
   ]
  },
  {
   "cell_type": "code",
   "execution_count": 8,
   "id": "e04ba7ff",
   "metadata": {
    "scrolled": true
   },
   "outputs": [
    {
     "data": {
      "text/plain": [
       "5    681\n",
       "6    638\n",
       "7    199\n",
       "4     53\n",
       "8     18\n",
       "3     10\n",
       "Name: quality, dtype: int64"
      ]
     },
     "execution_count": 8,
     "metadata": {},
     "output_type": "execute_result"
    }
   ],
   "source": [
    "#Checking for the frequency of the wine quality ratings-\n",
    "wine.quality.value_counts()"
   ]
  },
  {
   "cell_type": "markdown",
   "id": "c05aef9d",
   "metadata": {},
   "source": [
    "# Exploratory Data Analysis-"
   ]
  },
  {
   "cell_type": "markdown",
   "id": "08cb1ce8",
   "metadata": {},
   "source": [
    "## Countplot"
   ]
  },
  {
   "cell_type": "code",
   "execution_count": 9,
   "id": "308657f9",
   "metadata": {},
   "outputs": [
    {
     "data": {
      "image/png": "[encoded data removed]",
      "text/plain": [
       "<Figure size 432x288 with 1 Axes>"
      ]
     },
     "metadata": {
      "needs_background": "light"
     },
     "output_type": "display_data"
    }
   ],
   "source": [
    "#Value Counts plot for wine quality rating-\n",
    "\n",
    "sns.countplot(data=wine, x='quality')\n",
    "plt.grid()"
   ]
  },
  {
   "cell_type": "markdown",
   "id": "6cb794dc",
   "metadata": {},
   "source": [
    "## Barplot"
   ]
  },
  {
   "cell_type": "code",
   "execution_count": 10,
   "id": "31901ac7",
   "metadata": {
    "scrolled": true
   },
   "outputs": [
    {
     "data": {
      "text/plain": [
       "<AxesSubplot: xlabel='quality', ylabel='volatile acidity'>"
      ]
     },
     "execution_count": 10,
     "metadata": {},
     "output_type": "execute_result"
    },
    {
     "data": {
      "image/png": "[encoded data removed]",
      "text/plain": [
       "<Figure size 432x288 with 1 Axes>"
      ]
     },
     "metadata": {
      "needs_background": "light"
     },
     "output_type": "display_data"
    }
   ],
   "source": [
    "#Checking the relation between independant columns and target column-\n",
    "\n",
    "sns.barplot(data=wine,x=\"quality\", y='volatile acidity')\n",
    "\n",
    "#Here we can see,\"quality\" is best when \"volatile acidity\" is around 0.5\n",
    "#and inversely proportional relation of the two features"
   ]
  },
  {
   "cell_type": "code",
   "execution_count": 11,
   "id": "16603a8f",
   "metadata": {},
   "outputs": [
    {
     "data": {
      "text/plain": [
       "<AxesSubplot: xlabel='quality', ylabel='citric acid'>"
      ]
     },
     "execution_count": 11,
     "metadata": {},
     "output_type": "execute_result"
    },
    {
     "data": {
      "image/png": "[encoded data removed]",
      "text/plain": [
       "<Figure size 432x288 with 1 Axes>"
      ]
     },
     "metadata": {
      "needs_background": "light"
     },
     "output_type": "display_data"
    }
   ],
   "source": [
    "sns.barplot(data=wine,x='quality', y='citric acid')\n",
    "\n",
    "#Here we can see,\"quality\" is best when \"citric acidity\" is around 0.4\n",
    "#and directly proportional relation between the two features"
   ]
  },
  {
   "cell_type": "code",
   "execution_count": 12,
   "id": "dc53eb64",
   "metadata": {
    "code_folding": []
   },
   "outputs": [],
   "source": [
    "# Similarly we can check for relation or pattern of target feature with remaining features"
   ]
  },
  {
   "cell_type": "code",
   "execution_count": 13,
   "id": "63c29365",
   "metadata": {},
   "outputs": [
    {
     "data": {
      "image/png": "[encoded data removed]",
      "text/plain": [
       "<Figure size 432x288 with 1 Axes>"
      ]
     },
     "metadata": {
      "needs_background": "light"
     },
     "output_type": "display_data"
    },
    {
     "data": {
      "image/png": "[encoded data removed]",
      "text/plain": [
       "<Figure size 432x288 with 1 Axes>"
      ]
     },
     "metadata": {
      "needs_background": "light"
     },
     "output_type": "display_data"
    },
    {
     "data": {
      "image/png": "[encoded data removed]",
      "text/plain": [
       "<Figure size 432x288 with 1 Axes>"
      ]
     },
     "metadata": {
      "needs_background": "light"
     },
     "output_type": "display_data"
    },
    {
     "data": {
      "image/png": "[encoded data removed]",
      "text/plain": [
       "<Figure size 432x288 with 1 Axes>"
      ]
     },
     "metadata": {
      "needs_background": "light"
     },
     "output_type": "display_data"
    },
    {
     "data": {
      "image/png": "[encoded data removed]",
      "text/plain": [
       "<Figure size 432x288 with 1 Axes>"
      ]
     },
     "metadata": {
      "needs_background": "light"
     },
     "output_type": "display_data"
    },
    {
     "data": {
      "image/png": "[encoded data removed]",
      "text/plain": [
       "<Figure size 432x288 with 1 Axes>"
      ]
     },
     "metadata": {
      "needs_background": "light"
     },
     "output_type": "display_data"
    },
    {
     "data": {
      "image/png": "[encoded data removed]",
      "text/plain": [
       "<Figure size 432x288 with 1 Axes>"
      ]
     },
     "metadata": {
      "needs_background": "light"
     },
     "output_type": "display_data"
    },
    {
     "data": {
      "image/png": "[encoded data removed]",
      "text/plain": [
       "<Figure size 432x288 with 1 Axes>"
      ]
     },
     "metadata": {
      "needs_background": "light"
     },
     "output_type": "display_data"
    },
    {
     "data": {
      "image/png": "[encoded data removed]",
      "text/plain": [
       "<Figure size 432x288 with 1 Axes>"
      ]
     },
     "metadata": {
      "needs_background": "light"
     },
     "output_type": "display_data"
    },
    {
     "data": {
      "image/png": "[encoded data removed]",
      "text/plain": [
       "<Figure size 432x288 with 1 Axes>"
      ]
     },
     "metadata": {
      "needs_background": "light"
     },
     "output_type": "display_data"
    },
    {
     "data": {
      "image/png": "[encoded data removed]",
      "text/plain": [
       "<Figure size 432x288 with 1 Axes>"
      ]
     },
     "metadata": {
      "needs_background": "light"
     },
     "output_type": "display_data"
    },
    {
     "data": {
      "image/png": "[encoded data removed]",
      "text/plain": [
       "<Figure size 432x288 with 1 Axes>"
      ]
     },
     "metadata": {
      "needs_background": "light"
     },
     "output_type": "display_data"
    }
   ],
   "source": [
    "for i in wine.columns:\n",
    "    sns.barplot(data=wine,x='quality', y=i)\n",
    "    plt.show() "
   ]
  },
  {
   "cell_type": "markdown",
   "id": "a6e7d205",
   "metadata": {},
   "source": [
    "## Boxplot"
   ]
  },
  {
   "cell_type": "code",
   "execution_count": 14,
   "id": "e7079d29",
   "metadata": {},
   "outputs": [],
   "source": [
    "#The relation or distribution between Categorical vs Continuous variable is better understood with the help of Boxplots \n",
    "#Hence plotting Boxplots against the target(Categorical) column"
   ]
  },
  {
   "cell_type": "code",
   "execution_count": 15,
   "id": "e8b0c7a1",
   "metadata": {},
   "outputs": [
    {
     "name": "stdout",
     "output_type": "stream",
     "text": [
      "Boxplot for fixed acidity by quality\n"
     ]
    },
    {
     "data": {
      "image/png": "[encoded data removed]",
      "text/plain": [
       "<Figure size 432x288 with 1 Axes>"
      ]
     },
     "metadata": {
      "needs_background": "light"
     },
     "output_type": "display_data"
    },
    {
     "name": "stdout",
     "output_type": "stream",
     "text": [
      "Boxplot for volatile acidity by quality\n"
     ]
    },
    {
     "data": {
      "image/png": "[encoded data removed]",
      "text/plain": [
       "<Figure size 432x288 with 1 Axes>"
      ]
     },
     "metadata": {
      "needs_background": "light"
     },
     "output_type": "display_data"
    },
    {
     "name": "stdout",
     "output_type": "stream",
     "text": [
      "Boxplot for citric acid by quality\n"
     ]
    },
    {
     "data": {
      "image/png": "[encoded data removed]",
      "text/plain": [
       "<Figure size 432x288 with 1 Axes>"
      ]
     },
     "metadata": {
      "needs_background": "light"
     },
     "output_type": "display_data"
    },
    {
     "name": "stdout",
     "output_type": "stream",
     "text": [
      "Boxplot for residual sugar by quality\n"
     ]
    },
    {
     "data": {
      "image/png": "[encoded data removed]",
      "text/plain": [
       "<Figure size 432x288 with 1 Axes>"
      ]
     },
     "metadata": {
      "needs_background": "light"
     },
     "output_type": "display_data"
    },
    {
     "name": "stdout",
     "output_type": "stream",
     "text": [
      "Boxplot for chlorides by quality\n"
     ]
    },
    {
     "data": {
      "image/png": "[encoded data removed]",
      "text/plain": [
       "<Figure size 432x288 with 1 Axes>"
      ]
     },
     "metadata": {
      "needs_background": "light"
     },
     "output_type": "display_data"
    },
    {
     "name": "stdout",
     "output_type": "stream",
     "text": [
      "Boxplot for free sulfur dioxide by quality\n"
     ]
    },
    {
     "data": {
      "image/png": "[encoded data removed]",
      "text/plain": [
       "<Figure size 432x288 with 1 Axes>"
      ]
     },
     "metadata": {
      "needs_background": "light"
     },
     "output_type": "display_data"
    },
    {
     "name": "stdout",
     "output_type": "stream",
     "text": [
      "Boxplot for total sulfur dioxide by quality\n"
     ]
    },
    {
     "data": {
      "image/png": "[encoded data removed]",
      "text/plain": [
       "<Figure size 432x288 with 1 Axes>"
      ]
     },
     "metadata": {
      "needs_background": "light"
     },
     "output_type": "display_data"
    },
    {
     "name": "stdout",
     "output_type": "stream",
     "text": [
      "Boxplot for density by quality\n"
     ]
    },
    {
     "data": {
      "image/png": "[encoded data removed]",
      "text/plain": [
       "<Figure size 432x288 with 1 Axes>"
      ]
     },
     "metadata": {
      "needs_background": "light"
     },
     "output_type": "display_data"
    },
    {
     "name": "stdout",
     "output_type": "stream",
     "text": [
      "Boxplot for pH by quality\n"
     ]
    },
    {
     "data": {
      "image/png": "[encoded data removed]",
      "text/plain": [
       "<Figure size 432x288 with 1 Axes>"
      ]
     },
     "metadata": {
      "needs_background": "light"
     },
     "output_type": "display_data"
    },
    {
     "name": "stdout",
     "output_type": "stream",
     "text": [
      "Boxplot for sulphates by quality\n"
     ]
    },
    {
     "data": {
      "image/png": "[encoded data removed]",
      "text/plain": [
       "<Figure size 432x288 with 1 Axes>"
      ]
     },
     "metadata": {
      "needs_background": "light"
     },
     "output_type": "display_data"
    },
    {
     "name": "stdout",
     "output_type": "stream",
     "text": [
      "Boxplot for alcohol by quality\n"
     ]
    },
    {
     "data": {
      "image/png": "[encoded data removed]",
      "text/plain": [
       "<Figure size 432x288 with 1 Axes>"
      ]
     },
     "metadata": {
      "needs_background": "light"
     },
     "output_type": "display_data"
    },
    {
     "name": "stdout",
     "output_type": "stream",
     "text": [
      "Boxplot for quality by quality\n"
     ]
    },
    {
     "data": {
      "image/png": "[encoded data removed]",
      "text/plain": [
       "<Figure size 432x288 with 1 Axes>"
      ]
     },
     "metadata": {
      "needs_background": "light"
     },
     "output_type": "display_data"
    }
   ],
   "source": [
    "for i in wine.columns:\n",
    "    sns.boxplot(data=wine, x='quality', y =i)\n",
    "    plt.grid()\n",
    "    plt.title(print(f'Boxplot for {i} by quality'))\n",
    "    plt.show()"
   ]
  },
  {
   "cell_type": "markdown",
   "id": "a73ac80d",
   "metadata": {},
   "source": [
    "## Histogram"
   ]
  },
  {
   "cell_type": "code",
   "execution_count": 16,
   "id": "4e1faea3",
   "metadata": {},
   "outputs": [
    {
     "data": {
      "text/plain": [
       "array([[<AxesSubplot: title={'center': 'fixed acidity'}>,\n",
       "        <AxesSubplot: title={'center': 'volatile acidity'}>,\n",
       "        <AxesSubplot: title={'center': 'citric acid'}>],\n",
       "       [<AxesSubplot: title={'center': 'residual sugar'}>,\n",
       "        <AxesSubplot: title={'center': 'chlorides'}>,\n",
       "        <AxesSubplot: title={'center': 'free sulfur dioxide'}>],\n",
       "       [<AxesSubplot: title={'center': 'total sulfur dioxide'}>,\n",
       "        <AxesSubplot: title={'center': 'density'}>,\n",
       "        <AxesSubplot: title={'center': 'pH'}>],\n",
       "       [<AxesSubplot: title={'center': 'sulphates'}>,\n",
       "        <AxesSubplot: title={'center': 'alcohol'}>,\n",
       "        <AxesSubplot: title={'center': 'quality'}>]], dtype=object)"
      ]
     },
     "execution_count": 16,
     "metadata": {},
     "output_type": "execute_result"
    },
    {
     "data": {
      "image/png": "[encoded data removed]",
      "text/plain": [
       "<Figure size 1080x1080 with 12 Axes>"
      ]
     },
     "metadata": {
      "needs_background": "light"
     },
     "output_type": "display_data"
    }
   ],
   "source": [
    "wine.hist(wine.columns, figsize=(15,15))"
   ]
  },
  {
   "cell_type": "markdown",
   "id": "98c2a34e",
   "metadata": {},
   "source": [
    "## Correlation Matrix"
   ]
  },
  {
   "cell_type": "code",
   "execution_count": 17,
   "id": "76f17259",
   "metadata": {},
   "outputs": [],
   "source": [
    "from scipy.stats import pointbiserialr as bscorr"
   ]
  },
  {
   "cell_type": "code",
   "execution_count": 18,
   "id": "0a4f8760",
   "metadata": {},
   "outputs": [],
   "source": [
    "from dython.nominal import associations"
   ]
  },
  {
   "cell_type": "code",
   "execution_count": 19,
   "id": "48659033",
   "metadata": {},
   "outputs": [
    {
     "data": {
      "text/html": [
       "<div>\n",
       "<style scoped>\n",
       "    .dataframe tbody tr th:only-of-type {\n",
       "        vertical-align: middle;\n",
       "    }\n",
       "\n",
       "    .dataframe tbody tr th {\n",
       "        vertical-align: top;\n",
       "    }\n",
       "\n",
       "    .dataframe thead th {\n",
       "        text-align: right;\n",
       "    }\n",
       "</style>\n",
       "<table border=\"1\" class=\"dataframe\">\n",
       "  <thead>\n",
       "    <tr style=\"text-align: right;\">\n",
       "      <th></th>\n",
       "      <th>fixed acidity</th>\n",
       "      <th>volatile acidity</th>\n",
       "      <th>citric acid</th>\n",
       "      <th>residual sugar</th>\n",
       "      <th>chlorides</th>\n",
       "      <th>free sulfur dioxide</th>\n",
       "      <th>total sulfur dioxide</th>\n",
       "      <th>density</th>\n",
       "      <th>pH</th>\n",
       "      <th>sulphates</th>\n",
       "      <th>alcohol</th>\n",
       "      <th>quality</th>\n",
       "    </tr>\n",
       "  </thead>\n",
       "  <tbody>\n",
       "    <tr>\n",
       "      <th>fixed acidity</th>\n",
       "      <td>1.000000</td>\n",
       "      <td>-0.278282</td>\n",
       "      <td>0.661708</td>\n",
       "      <td>0.220701</td>\n",
       "      <td>0.250904</td>\n",
       "      <td>-0.175137</td>\n",
       "      <td>-0.088417</td>\n",
       "      <td>0.623071</td>\n",
       "      <td>-0.706674</td>\n",
       "      <td>0.212654</td>\n",
       "      <td>-0.066576</td>\n",
       "      <td>0.114084</td>\n",
       "    </tr>\n",
       "    <tr>\n",
       "      <th>volatile acidity</th>\n",
       "      <td>-0.278282</td>\n",
       "      <td>1.000000</td>\n",
       "      <td>-0.610259</td>\n",
       "      <td>0.032386</td>\n",
       "      <td>0.158770</td>\n",
       "      <td>0.021163</td>\n",
       "      <td>0.094110</td>\n",
       "      <td>0.025014</td>\n",
       "      <td>0.233572</td>\n",
       "      <td>-0.325584</td>\n",
       "      <td>-0.224932</td>\n",
       "      <td>-0.380647</td>\n",
       "    </tr>\n",
       "    <tr>\n",
       "      <th>citric acid</th>\n",
       "      <td>0.661708</td>\n",
       "      <td>-0.610259</td>\n",
       "      <td>1.000000</td>\n",
       "      <td>0.176417</td>\n",
       "      <td>0.112577</td>\n",
       "      <td>-0.076452</td>\n",
       "      <td>0.009400</td>\n",
       "      <td>0.352285</td>\n",
       "      <td>-0.548026</td>\n",
       "      <td>0.331074</td>\n",
       "      <td>0.096456</td>\n",
       "      <td>0.213481</td>\n",
       "    </tr>\n",
       "    <tr>\n",
       "      <th>residual sugar</th>\n",
       "      <td>0.220701</td>\n",
       "      <td>0.032386</td>\n",
       "      <td>0.176417</td>\n",
       "      <td>1.000000</td>\n",
       "      <td>0.212959</td>\n",
       "      <td>0.074618</td>\n",
       "      <td>0.145375</td>\n",
       "      <td>0.422266</td>\n",
       "      <td>-0.089971</td>\n",
       "      <td>0.038332</td>\n",
       "      <td>0.116548</td>\n",
       "      <td>0.032048</td>\n",
       "    </tr>\n",
       "    <tr>\n",
       "      <th>chlorides</th>\n",
       "      <td>0.250904</td>\n",
       "      <td>0.158770</td>\n",
       "      <td>0.112577</td>\n",
       "      <td>0.212959</td>\n",
       "      <td>1.000000</td>\n",
       "      <td>0.000805</td>\n",
       "      <td>0.130033</td>\n",
       "      <td>0.411390</td>\n",
       "      <td>-0.234361</td>\n",
       "      <td>0.020825</td>\n",
       "      <td>-0.284504</td>\n",
       "      <td>-0.189922</td>\n",
       "    </tr>\n",
       "    <tr>\n",
       "      <th>free sulfur dioxide</th>\n",
       "      <td>-0.175137</td>\n",
       "      <td>0.021163</td>\n",
       "      <td>-0.076452</td>\n",
       "      <td>0.074618</td>\n",
       "      <td>0.000805</td>\n",
       "      <td>1.000000</td>\n",
       "      <td>0.789698</td>\n",
       "      <td>-0.041178</td>\n",
       "      <td>0.115679</td>\n",
       "      <td>0.045862</td>\n",
       "      <td>-0.081367</td>\n",
       "      <td>-0.056901</td>\n",
       "    </tr>\n",
       "    <tr>\n",
       "      <th>total sulfur dioxide</th>\n",
       "      <td>-0.088417</td>\n",
       "      <td>0.094110</td>\n",
       "      <td>0.009400</td>\n",
       "      <td>0.145375</td>\n",
       "      <td>0.130033</td>\n",
       "      <td>0.789698</td>\n",
       "      <td>1.000000</td>\n",
       "      <td>0.129332</td>\n",
       "      <td>-0.009841</td>\n",
       "      <td>-0.000504</td>\n",
       "      <td>-0.257806</td>\n",
       "      <td>-0.196735</td>\n",
       "    </tr>\n",
       "    <tr>\n",
       "      <th>density</th>\n",
       "      <td>0.623071</td>\n",
       "      <td>0.025014</td>\n",
       "      <td>0.352285</td>\n",
       "      <td>0.422266</td>\n",
       "      <td>0.411390</td>\n",
       "      <td>-0.041178</td>\n",
       "      <td>0.129332</td>\n",
       "      <td>1.000000</td>\n",
       "      <td>-0.312055</td>\n",
       "      <td>0.161478</td>\n",
       "      <td>-0.462445</td>\n",
       "      <td>-0.177074</td>\n",
       "    </tr>\n",
       "    <tr>\n",
       "      <th>pH</th>\n",
       "      <td>-0.706674</td>\n",
       "      <td>0.233572</td>\n",
       "      <td>-0.548026</td>\n",
       "      <td>-0.089971</td>\n",
       "      <td>-0.234361</td>\n",
       "      <td>0.115679</td>\n",
       "      <td>-0.009841</td>\n",
       "      <td>-0.312055</td>\n",
       "      <td>1.000000</td>\n",
       "      <td>-0.080306</td>\n",
       "      <td>0.179932</td>\n",
       "      <td>-0.043672</td>\n",
       "    </tr>\n",
       "    <tr>\n",
       "      <th>sulphates</th>\n",
       "      <td>0.212654</td>\n",
       "      <td>-0.325584</td>\n",
       "      <td>0.331074</td>\n",
       "      <td>0.038332</td>\n",
       "      <td>0.020825</td>\n",
       "      <td>0.045862</td>\n",
       "      <td>-0.000504</td>\n",
       "      <td>0.161478</td>\n",
       "      <td>-0.080306</td>\n",
       "      <td>1.000000</td>\n",
       "      <td>0.207330</td>\n",
       "      <td>0.377060</td>\n",
       "    </tr>\n",
       "    <tr>\n",
       "      <th>alcohol</th>\n",
       "      <td>-0.066576</td>\n",
       "      <td>-0.224932</td>\n",
       "      <td>0.096456</td>\n",
       "      <td>0.116548</td>\n",
       "      <td>-0.284504</td>\n",
       "      <td>-0.081367</td>\n",
       "      <td>-0.257806</td>\n",
       "      <td>-0.462445</td>\n",
       "      <td>0.179932</td>\n",
       "      <td>0.207330</td>\n",
       "      <td>1.000000</td>\n",
       "      <td>0.478532</td>\n",
       "    </tr>\n",
       "    <tr>\n",
       "      <th>quality</th>\n",
       "      <td>0.114084</td>\n",
       "      <td>-0.380647</td>\n",
       "      <td>0.213481</td>\n",
       "      <td>0.032048</td>\n",
       "      <td>-0.189922</td>\n",
       "      <td>-0.056901</td>\n",
       "      <td>-0.196735</td>\n",
       "      <td>-0.177074</td>\n",
       "      <td>-0.043672</td>\n",
       "      <td>0.377060</td>\n",
       "      <td>0.478532</td>\n",
       "      <td>1.000000</td>\n",
       "    </tr>\n",
       "  </tbody>\n",
       "</table>\n",
       "</div>"
      ],
      "text/plain": [
       "                      fixed acidity  volatile acidity  citric acid  \\\n",
       "fixed acidity              1.000000         -0.278282     0.661708   \n",
       "volatile acidity          -0.278282          1.000000    -0.610259   \n",
       "citric acid                0.661708         -0.610259     1.000000   \n",
       "residual sugar             0.220701          0.032386     0.176417   \n",
       "chlorides                  0.250904          0.158770     0.112577   \n",
       "free sulfur dioxide       -0.175137          0.021163    -0.076452   \n",
       "total sulfur dioxide      -0.088417          0.094110     0.009400   \n",
       "density                    0.623071          0.025014     0.352285   \n",
       "pH                        -0.706674          0.233572    -0.548026   \n",
       "sulphates                  0.212654         -0.325584     0.331074   \n",
       "alcohol                   -0.066576         -0.224932     0.096456   \n",
       "quality                    0.114084         -0.380647     0.213481   \n",
       "\n",
       "                      residual sugar  chlorides  free sulfur dioxide  \\\n",
       "fixed acidity               0.220701   0.250904            -0.175137   \n",
       "volatile acidity            0.032386   0.158770             0.021163   \n",
       "citric acid                 0.176417   0.112577            -0.076452   \n",
       "residual sugar              1.000000   0.212959             0.074618   \n",
       "chlorides                   0.212959   1.000000             0.000805   \n",
       "free sulfur dioxide         0.074618   0.000805             1.000000   \n",
       "total sulfur dioxide        0.145375   0.130033             0.789698   \n",
       "density                     0.422266   0.411390            -0.041178   \n",
       "pH                         -0.089971  -0.234361             0.115679   \n",
       "sulphates                   0.038332   0.020825             0.045862   \n",
       "alcohol                     0.116548  -0.284504            -0.081367   \n",
       "quality                     0.032048  -0.189922            -0.056901   \n",
       "\n",
       "                      total sulfur dioxide   density        pH  sulphates  \\\n",
       "fixed acidity                    -0.088417  0.623071 -0.706674   0.212654   \n",
       "volatile acidity                  0.094110  0.025014  0.233572  -0.325584   \n",
       "citric acid                       0.009400  0.352285 -0.548026   0.331074   \n",
       "residual sugar                    0.145375  0.422266 -0.089971   0.038332   \n",
       "chlorides                         0.130033  0.411390 -0.234361   0.020825   \n",
       "free sulfur dioxide               0.789698 -0.041178  0.115679   0.045862   \n",
       "total sulfur dioxide              1.000000  0.129332 -0.009841  -0.000504   \n",
       "density                           0.129332  1.000000 -0.312055   0.161478   \n",
       "pH                               -0.009841 -0.312055  1.000000  -0.080306   \n",
       "sulphates                        -0.000504  0.161478 -0.080306   1.000000   \n",
       "alcohol                          -0.257806 -0.462445  0.179932   0.207330   \n",
       "quality                          -0.196735 -0.177074 -0.043672   0.377060   \n",
       "\n",
       "                       alcohol   quality  \n",
       "fixed acidity        -0.066576  0.114084  \n",
       "volatile acidity     -0.224932 -0.380647  \n",
       "citric acid           0.096456  0.213481  \n",
       "residual sugar        0.116548  0.032048  \n",
       "chlorides            -0.284504 -0.189922  \n",
       "free sulfur dioxide  -0.081367 -0.056901  \n",
       "total sulfur dioxide -0.257806 -0.196735  \n",
       "density              -0.462445 -0.177074  \n",
       "pH                    0.179932 -0.043672  \n",
       "sulphates             0.207330  0.377060  \n",
       "alcohol               1.000000  0.478532  \n",
       "quality               0.478532  1.000000  "
      ]
     },
     "execution_count": 19,
     "metadata": {},
     "output_type": "execute_result"
    }
   ],
   "source": [
    "wine.corr(method='spearman')\n",
    "\n",
    "#Here we will check for the correlation bwtween target variable and independant features, \n",
    "#value closer to 1 or -1 indicates a good relation"
   ]
  },
  {
   "cell_type": "code",
   "execution_count": 20,
   "id": "f847db84",
   "metadata": {},
   "outputs": [
    {
     "data": {
      "text/plain": [
       "<AxesSubplot: >"
      ]
     },
     "execution_count": 20,
     "metadata": {},
     "output_type": "execute_result"
    },
    {
     "data": {
      "image/png": "[encoded data removed]",
      "text/plain": [
       "<Figure size 1440x720 with 2 Axes>"
      ]
     },
     "metadata": {
      "needs_background": "light"
     },
     "output_type": "display_data"
    }
   ],
   "source": [
    "#Plotting the heatmap of correlation, darker blue and darker red tiles indicate good relation\n",
    "# darker red- positive higher value, darker blue - negative higher value \n",
    "\n",
    "plt.figure(figsize=(20,10))\n",
    "sns.heatmap(wine.corr(method='spearman'), annot=True, linecolor=\"white\",linewidths=0.65,  fmt=\".2f\", cmap=\"coolwarm\",square=True)#, annot_kws={\"size\":10})"
   ]
  },
  {
   "cell_type": "markdown",
   "id": "3c3af614",
   "metadata": {},
   "source": [
    "# Conversion of Target column values to Binary for Binary Classification approach-\n",
    "\n",
    "The Wine Quality rating will be divided into two categories-\n",
    "1. quality<=5 - good - 0\n",
    "2. quality>5 - best - 1"
   ]
  },
  {
   "cell_type": "code",
   "execution_count": 21,
   "id": "9d66c4f8",
   "metadata": {},
   "outputs": [
    {
     "data": {
      "text/plain": [
       "5    681\n",
       "6    638\n",
       "7    199\n",
       "4     53\n",
       "8     18\n",
       "3     10\n",
       "Name: quality, dtype: int64"
      ]
     },
     "execution_count": 21,
     "metadata": {},
     "output_type": "execute_result"
    }
   ],
   "source": [
    "wine['quality'].value_counts() "
   ]
  },
  {
   "cell_type": "code",
   "execution_count": 22,
   "id": "f5098cfe",
   "metadata": {},
   "outputs": [
    {
     "data": {
      "text/plain": [
       "0       0\n",
       "1       0\n",
       "2       0\n",
       "3       1\n",
       "4       0\n",
       "       ..\n",
       "1594    0\n",
       "1595    1\n",
       "1596    1\n",
       "1597    0\n",
       "1598    1\n",
       "Name: quality, Length: 1599, dtype: int64"
      ]
     },
     "execution_count": 22,
     "metadata": {},
     "output_type": "execute_result"
    }
   ],
   "source": [
    "wine['quality'] = wine['quality'].apply(lambda x:1 if x>5 else 0 )\n",
    "wine['quality']"
   ]
  },
  {
   "cell_type": "code",
   "execution_count": 23,
   "id": "b52f5bca",
   "metadata": {},
   "outputs": [
    {
     "data": {
      "text/plain": [
       "1    855\n",
       "0    744\n",
       "Name: quality, dtype: int64"
      ]
     },
     "execution_count": 23,
     "metadata": {},
     "output_type": "execute_result"
    }
   ],
   "source": [
    "wine['quality'].value_counts() "
   ]
  },
  {
   "cell_type": "code",
   "execution_count": 24,
   "id": "5b32a28d",
   "metadata": {},
   "outputs": [
    {
     "data": {
      "text/html": [
       "<div>\n",
       "<style scoped>\n",
       "    .dataframe tbody tr th:only-of-type {\n",
       "        vertical-align: middle;\n",
       "    }\n",
       "\n",
       "    .dataframe tbody tr th {\n",
       "        vertical-align: top;\n",
       "    }\n",
       "\n",
       "    .dataframe thead th {\n",
       "        text-align: right;\n",
       "    }\n",
       "</style>\n",
       "<table border=\"1\" class=\"dataframe\">\n",
       "  <thead>\n",
       "    <tr style=\"text-align: right;\">\n",
       "      <th></th>\n",
       "      <th>fixed acidity</th>\n",
       "      <th>volatile acidity</th>\n",
       "      <th>citric acid</th>\n",
       "      <th>residual sugar</th>\n",
       "      <th>chlorides</th>\n",
       "      <th>free sulfur dioxide</th>\n",
       "      <th>total sulfur dioxide</th>\n",
       "      <th>density</th>\n",
       "      <th>pH</th>\n",
       "      <th>sulphates</th>\n",
       "      <th>alcohol</th>\n",
       "      <th>quality</th>\n",
       "    </tr>\n",
       "  </thead>\n",
       "  <tbody>\n",
       "    <tr>\n",
       "      <th>0</th>\n",
       "      <td>7.4</td>\n",
       "      <td>0.70</td>\n",
       "      <td>0.00</td>\n",
       "      <td>1.9</td>\n",
       "      <td>0.076</td>\n",
       "      <td>11.0</td>\n",
       "      <td>34.0</td>\n",
       "      <td>0.9978</td>\n",
       "      <td>3.51</td>\n",
       "      <td>0.56</td>\n",
       "      <td>9.4</td>\n",
       "      <td>0</td>\n",
       "    </tr>\n",
       "    <tr>\n",
       "      <th>1</th>\n",
       "      <td>7.8</td>\n",
       "      <td>0.88</td>\n",
       "      <td>0.00</td>\n",
       "      <td>2.6</td>\n",
       "      <td>0.098</td>\n",
       "      <td>25.0</td>\n",
       "      <td>67.0</td>\n",
       "      <td>0.9968</td>\n",
       "      <td>3.20</td>\n",
       "      <td>0.68</td>\n",
       "      <td>9.8</td>\n",
       "      <td>0</td>\n",
       "    </tr>\n",
       "    <tr>\n",
       "      <th>2</th>\n",
       "      <td>7.8</td>\n",
       "      <td>0.76</td>\n",
       "      <td>0.04</td>\n",
       "      <td>2.3</td>\n",
       "      <td>0.092</td>\n",
       "      <td>15.0</td>\n",
       "      <td>54.0</td>\n",
       "      <td>0.9970</td>\n",
       "      <td>3.26</td>\n",
       "      <td>0.65</td>\n",
       "      <td>9.8</td>\n",
       "      <td>0</td>\n",
       "    </tr>\n",
       "    <tr>\n",
       "      <th>3</th>\n",
       "      <td>11.2</td>\n",
       "      <td>0.28</td>\n",
       "      <td>0.56</td>\n",
       "      <td>1.9</td>\n",
       "      <td>0.075</td>\n",
       "      <td>17.0</td>\n",
       "      <td>60.0</td>\n",
       "      <td>0.9980</td>\n",
       "      <td>3.16</td>\n",
       "      <td>0.58</td>\n",
       "      <td>9.8</td>\n",
       "      <td>1</td>\n",
       "    </tr>\n",
       "    <tr>\n",
       "      <th>4</th>\n",
       "      <td>7.4</td>\n",
       "      <td>0.70</td>\n",
       "      <td>0.00</td>\n",
       "      <td>1.9</td>\n",
       "      <td>0.076</td>\n",
       "      <td>11.0</td>\n",
       "      <td>34.0</td>\n",
       "      <td>0.9978</td>\n",
       "      <td>3.51</td>\n",
       "      <td>0.56</td>\n",
       "      <td>9.4</td>\n",
       "      <td>0</td>\n",
       "    </tr>\n",
       "  </tbody>\n",
       "</table>\n",
       "</div>"
      ],
      "text/plain": [
       "   fixed acidity  volatile acidity  citric acid  residual sugar  chlorides  \\\n",
       "0            7.4              0.70         0.00             1.9      0.076   \n",
       "1            7.8              0.88         0.00             2.6      0.098   \n",
       "2            7.8              0.76         0.04             2.3      0.092   \n",
       "3           11.2              0.28         0.56             1.9      0.075   \n",
       "4            7.4              0.70         0.00             1.9      0.076   \n",
       "\n",
       "   free sulfur dioxide  total sulfur dioxide  density    pH  sulphates  \\\n",
       "0                 11.0                  34.0   0.9978  3.51       0.56   \n",
       "1                 25.0                  67.0   0.9968  3.20       0.68   \n",
       "2                 15.0                  54.0   0.9970  3.26       0.65   \n",
       "3                 17.0                  60.0   0.9980  3.16       0.58   \n",
       "4                 11.0                  34.0   0.9978  3.51       0.56   \n",
       "\n",
       "   alcohol  quality  \n",
       "0      9.4        0  \n",
       "1      9.8        0  \n",
       "2      9.8        0  \n",
       "3      9.8        1  \n",
       "4      9.4        0  "
      ]
     },
     "execution_count": 24,
     "metadata": {},
     "output_type": "execute_result"
    }
   ],
   "source": [
    "wine.head()"
   ]
  },
  {
   "cell_type": "code",
   "execution_count": 25,
   "id": "e9c36d9a",
   "metadata": {},
   "outputs": [
    {
     "data": {
      "image/png": "[encoded data removed]",
      "text/plain": [
       "<Figure size 432x432 with 1 Axes>"
      ]
     },
     "metadata": {
      "needs_background": "light"
     },
     "output_type": "display_data"
    }
   ],
   "source": [
    "#Plotting the highest correlated pairs\n",
    "\n",
    "# Two highest positively correlated features with 'quality'\n",
    "plt.figure(figsize=(6,6))\n",
    "plt.clf()\n",
    "sns.scatterplot(data=wine, x='alcohol', y='sulphates', hue='quality', palette=\"bright\")\n",
    "plt.show()"
   ]
  },
  {
   "cell_type": "code",
   "execution_count": 26,
   "id": "2072e053",
   "metadata": {
    "scrolled": false
   },
   "outputs": [
    {
     "data": {
      "image/png": "[encoded data removed]",
      "text/plain": [
       "<Figure size 432x432 with 1 Axes>"
      ]
     },
     "metadata": {
      "needs_background": "light"
     },
     "output_type": "display_data"
    }
   ],
   "source": [
    "# Two highest negatively correlated features with 'quality'\n",
    "plt.figure(figsize=(6,6))\n",
    "plt.clf()\n",
    "sns.scatterplot(data=wine, x='volatile acidity', y='density', hue='quality', palette=\"bright\")\n",
    "plt.show()"
   ]
  },
  {
   "cell_type": "code",
   "execution_count": 27,
   "id": "b83d7460",
   "metadata": {},
   "outputs": [
    {
     "data": {
      "image/png": "[encoded data removed]",
      "text/plain": [
       "<Figure size 432x288 with 1 Axes>"
      ]
     },
     "metadata": {
      "needs_background": "light"
     },
     "output_type": "display_data"
    }
   ],
   "source": [
    "#Countplot for transformed target feature\n",
    "sns.countplot(data=wine, x='quality')\n",
    "plt.grid()\n",
    "\n",
    "#Here we can observe that the data is not imbalanced hence we can proceed further"
   ]
  },
  {
   "cell_type": "markdown",
   "id": "4573390e",
   "metadata": {},
   "source": [
    "# Data Preprocessing"
   ]
  },
  {
   "cell_type": "code",
   "execution_count": 28,
   "id": "9903e8cd",
   "metadata": {},
   "outputs": [
    {
     "data": {
      "text/plain": [
       "fixed acidity           0\n",
       "volatile acidity        0\n",
       "citric acid             0\n",
       "residual sugar          0\n",
       "chlorides               0\n",
       "free sulfur dioxide     0\n",
       "total sulfur dioxide    0\n",
       "density                 0\n",
       "pH                      0\n",
       "sulphates               0\n",
       "alcohol                 0\n",
       "quality                 0\n",
       "dtype: int64"
      ]
     },
     "execution_count": 28,
     "metadata": {},
     "output_type": "execute_result"
    }
   ],
   "source": [
    "wine.isnull().sum()\n",
    "\n",
    "#Since there are no NaN values, the data is clean"
   ]
  },
  {
   "cell_type": "code",
   "execution_count": 29,
   "id": "bf189eb7",
   "metadata": {},
   "outputs": [
    {
     "data": {
      "text/plain": [
       "(240, 12)"
      ]
     },
     "execution_count": 29,
     "metadata": {},
     "output_type": "execute_result"
    }
   ],
   "source": [
    "#Checking & Removing duplicate entries\n",
    "\n",
    "wine[wine.duplicated()].shape"
   ]
  },
  {
   "cell_type": "code",
   "execution_count": 30,
   "id": "f26f1fdb",
   "metadata": {},
   "outputs": [
    {
     "name": "stdout",
     "output_type": "stream",
     "text": [
      "Before removing duplicates:  (1599, 12)\n",
      "After removing duplicates:  None (1359, 12)\n"
     ]
    }
   ],
   "source": [
    "#Before removing duplicates\n",
    "print(\"Before removing duplicates: \", wine.shape)\n",
    "\n",
    "#after removing duplicates\n",
    "print(\"After removing duplicates: \", wine.drop_duplicates(inplace=True), wine.shape)"
   ]
  },
  {
   "cell_type": "markdown",
   "id": "29d968f6",
   "metadata": {},
   "source": [
    "# Feature Scaling the Data before hold out validation"
   ]
  },
  {
   "cell_type": "code",
   "execution_count": 31,
   "id": "2f660ef9",
   "metadata": {},
   "outputs": [],
   "source": [
    "#Since our target feature is already in a low range compared to independant features, we would scale it"
   ]
  },
  {
   "cell_type": "code",
   "execution_count": 32,
   "id": "36831ca9",
   "metadata": {},
   "outputs": [],
   "source": [
    "import copy\n",
    "wine_std = copy.deepcopy(wine)"
   ]
  },
  {
   "cell_type": "code",
   "execution_count": 33,
   "id": "173e1f1d",
   "metadata": {},
   "outputs": [],
   "source": [
    "cols_std = ['fixed acidity', 'volatile acidity', 'citric acid', 'residual sugar',\n",
    "       'chlorides', 'free sulfur dioxide', 'total sulfur dioxide', 'density',\n",
    "       'pH', 'sulphates', 'alcohol']"
   ]
  },
  {
   "cell_type": "code",
   "execution_count": 34,
   "id": "890b4a6d",
   "metadata": {},
   "outputs": [],
   "source": [
    "#Using Standard Scalar to scale the data\n",
    "ssc = StandardScaler()\n",
    "\n",
    "for i in cols_std:\n",
    "    wine_std[i] = ssc.fit_transform(wine_std[[i]])"
   ]
  },
  {
   "cell_type": "code",
   "execution_count": 35,
   "id": "7f9d6096",
   "metadata": {},
   "outputs": [
    {
     "data": {
      "text/html": [
       "<div>\n",
       "<style scoped>\n",
       "    .dataframe tbody tr th:only-of-type {\n",
       "        vertical-align: middle;\n",
       "    }\n",
       "\n",
       "    .dataframe tbody tr th {\n",
       "        vertical-align: top;\n",
       "    }\n",
       "\n",
       "    .dataframe thead th {\n",
       "        text-align: right;\n",
       "    }\n",
       "</style>\n",
       "<table border=\"1\" class=\"dataframe\">\n",
       "  <thead>\n",
       "    <tr style=\"text-align: right;\">\n",
       "      <th></th>\n",
       "      <th>fixed acidity</th>\n",
       "      <th>volatile acidity</th>\n",
       "      <th>citric acid</th>\n",
       "      <th>residual sugar</th>\n",
       "      <th>chlorides</th>\n",
       "      <th>free sulfur dioxide</th>\n",
       "      <th>total sulfur dioxide</th>\n",
       "      <th>density</th>\n",
       "      <th>pH</th>\n",
       "      <th>sulphates</th>\n",
       "      <th>alcohol</th>\n",
       "      <th>quality</th>\n",
       "    </tr>\n",
       "  </thead>\n",
       "  <tbody>\n",
       "    <tr>\n",
       "      <th>0</th>\n",
       "      <td>-0.524431</td>\n",
       "      <td>0.932000</td>\n",
       "      <td>-1.393258</td>\n",
       "      <td>-0.461157</td>\n",
       "      <td>-0.245623</td>\n",
       "      <td>-0.468554</td>\n",
       "      <td>-0.384050</td>\n",
       "      <td>0.584003</td>\n",
       "      <td>1.291872</td>\n",
       "      <td>-0.578561</td>\n",
       "      <td>-0.954374</td>\n",
       "      <td>0</td>\n",
       "    </tr>\n",
       "    <tr>\n",
       "      <th>1</th>\n",
       "      <td>-0.294063</td>\n",
       "      <td>1.915800</td>\n",
       "      <td>-1.393258</td>\n",
       "      <td>0.056665</td>\n",
       "      <td>0.200094</td>\n",
       "      <td>0.872003</td>\n",
       "      <td>0.604073</td>\n",
       "      <td>0.048737</td>\n",
       "      <td>-0.708395</td>\n",
       "      <td>0.124822</td>\n",
       "      <td>-0.584575</td>\n",
       "      <td>0</td>\n",
       "    </tr>\n",
       "    <tr>\n",
       "      <th>2</th>\n",
       "      <td>-0.294063</td>\n",
       "      <td>1.259934</td>\n",
       "      <td>-1.188617</td>\n",
       "      <td>-0.165259</td>\n",
       "      <td>0.078535</td>\n",
       "      <td>-0.085537</td>\n",
       "      <td>0.214813</td>\n",
       "      <td>0.155790</td>\n",
       "      <td>-0.321247</td>\n",
       "      <td>-0.051024</td>\n",
       "      <td>-0.584575</td>\n",
       "      <td>0</td>\n",
       "    </tr>\n",
       "    <tr>\n",
       "      <th>3</th>\n",
       "      <td>1.664067</td>\n",
       "      <td>-1.363534</td>\n",
       "      <td>1.471711</td>\n",
       "      <td>-0.461157</td>\n",
       "      <td>-0.265883</td>\n",
       "      <td>0.105971</td>\n",
       "      <td>0.394471</td>\n",
       "      <td>0.691057</td>\n",
       "      <td>-0.966495</td>\n",
       "      <td>-0.461331</td>\n",
       "      <td>-0.584575</td>\n",
       "      <td>1</td>\n",
       "    </tr>\n",
       "    <tr>\n",
       "      <th>5</th>\n",
       "      <td>-0.524431</td>\n",
       "      <td>0.713378</td>\n",
       "      <td>-1.393258</td>\n",
       "      <td>-0.535132</td>\n",
       "      <td>-0.265883</td>\n",
       "      <td>-0.277045</td>\n",
       "      <td>-0.204391</td>\n",
       "      <td>0.584003</td>\n",
       "      <td>1.291872</td>\n",
       "      <td>-0.578561</td>\n",
       "      <td>-0.954374</td>\n",
       "      <td>0</td>\n",
       "    </tr>\n",
       "    <tr>\n",
       "      <th>...</th>\n",
       "      <td>...</td>\n",
       "      <td>...</td>\n",
       "      <td>...</td>\n",
       "      <td>...</td>\n",
       "      <td>...</td>\n",
       "      <td>...</td>\n",
       "      <td>...</td>\n",
       "      <td>...</td>\n",
       "      <td>...</td>\n",
       "      <td>...</td>\n",
       "      <td>...</td>\n",
       "      <td>...</td>\n",
       "    </tr>\n",
       "    <tr>\n",
       "      <th>1593</th>\n",
       "      <td>-0.869983</td>\n",
       "      <td>0.494756</td>\n",
       "      <td>-0.983977</td>\n",
       "      <td>-0.461157</td>\n",
       "      <td>-0.407702</td>\n",
       "      <td>1.159265</td>\n",
       "      <td>-0.264277</td>\n",
       "      <td>-0.106490</td>\n",
       "      <td>0.711149</td>\n",
       "      <td>0.945435</td>\n",
       "      <td>-0.861924</td>\n",
       "      <td>1</td>\n",
       "    </tr>\n",
       "    <tr>\n",
       "      <th>1594</th>\n",
       "      <td>-1.215536</td>\n",
       "      <td>0.385444</td>\n",
       "      <td>-0.983977</td>\n",
       "      <td>-0.387183</td>\n",
       "      <td>0.038015</td>\n",
       "      <td>1.542281</td>\n",
       "      <td>-0.084619</td>\n",
       "      <td>-0.968269</td>\n",
       "      <td>0.904724</td>\n",
       "      <td>-0.461331</td>\n",
       "      <td>0.062574</td>\n",
       "      <td>0</td>\n",
       "    </tr>\n",
       "    <tr>\n",
       "      <th>1595</th>\n",
       "      <td>-1.388312</td>\n",
       "      <td>0.112167</td>\n",
       "      <td>-0.881656</td>\n",
       "      <td>-0.239233</td>\n",
       "      <td>-0.529261</td>\n",
       "      <td>2.212559</td>\n",
       "      <td>0.124983</td>\n",
       "      <td>-0.850510</td>\n",
       "      <td>1.356397</td>\n",
       "      <td>0.593744</td>\n",
       "      <td>0.709723</td>\n",
       "      <td>1</td>\n",
       "    </tr>\n",
       "    <tr>\n",
       "      <th>1597</th>\n",
       "      <td>-1.388312</td>\n",
       "      <td>0.631395</td>\n",
       "      <td>-0.779336</td>\n",
       "      <td>-0.387183</td>\n",
       "      <td>-0.265883</td>\n",
       "      <td>1.542281</td>\n",
       "      <td>-0.084619</td>\n",
       "      <td>-0.663167</td>\n",
       "      <td>1.679021</td>\n",
       "      <td>0.300667</td>\n",
       "      <td>-0.214775</td>\n",
       "      <td>0</td>\n",
       "    </tr>\n",
       "    <tr>\n",
       "      <th>1598</th>\n",
       "      <td>-1.330720</td>\n",
       "      <td>-1.199567</td>\n",
       "      <td>1.011270</td>\n",
       "      <td>0.796410</td>\n",
       "      <td>-0.427962</td>\n",
       "      <td>0.201725</td>\n",
       "      <td>-0.144505</td>\n",
       "      <td>-0.652461</td>\n",
       "      <td>0.517575</td>\n",
       "      <td>0.007591</td>\n",
       "      <td>0.524824</td>\n",
       "      <td>1</td>\n",
       "    </tr>\n",
       "  </tbody>\n",
       "</table>\n",
       "<p>1359 rows × 12 columns</p>\n",
       "</div>"
      ],
      "text/plain": [
       "      fixed acidity  volatile acidity  citric acid  residual sugar  chlorides  \\\n",
       "0         -0.524431          0.932000    -1.393258       -0.461157  -0.245623   \n",
       "1         -0.294063          1.915800    -1.393258        0.056665   0.200094   \n",
       "2         -0.294063          1.259934    -1.188617       -0.165259   0.078535   \n",
       "3          1.664067         -1.363534     1.471711       -0.461157  -0.265883   \n",
       "5         -0.524431          0.713378    -1.393258       -0.535132  -0.265883   \n",
       "...             ...               ...          ...             ...        ...   \n",
       "1593      -0.869983          0.494756    -0.983977       -0.461157  -0.407702   \n",
       "1594      -1.215536          0.385444    -0.983977       -0.387183   0.038015   \n",
       "1595      -1.388312          0.112167    -0.881656       -0.239233  -0.529261   \n",
       "1597      -1.388312          0.631395    -0.779336       -0.387183  -0.265883   \n",
       "1598      -1.330720         -1.199567     1.011270        0.796410  -0.427962   \n",
       "\n",
       "      free sulfur dioxide  total sulfur dioxide   density        pH  \\\n",
       "0               -0.468554             -0.384050  0.584003  1.291872   \n",
       "1                0.872003              0.604073  0.048737 -0.708395   \n",
       "2               -0.085537              0.214813  0.155790 -0.321247   \n",
       "3                0.105971              0.394471  0.691057 -0.966495   \n",
       "5               -0.277045             -0.204391  0.584003  1.291872   \n",
       "...                   ...                   ...       ...       ...   \n",
       "1593             1.159265             -0.264277 -0.106490  0.711149   \n",
       "1594             1.542281             -0.084619 -0.968269  0.904724   \n",
       "1595             2.212559              0.124983 -0.850510  1.356397   \n",
       "1597             1.542281             -0.084619 -0.663167  1.679021   \n",
       "1598             0.201725             -0.144505 -0.652461  0.517575   \n",
       "\n",
       "      sulphates   alcohol  quality  \n",
       "0     -0.578561 -0.954374        0  \n",
       "1      0.124822 -0.584575        0  \n",
       "2     -0.051024 -0.584575        0  \n",
       "3     -0.461331 -0.584575        1  \n",
       "5     -0.578561 -0.954374        0  \n",
       "...         ...       ...      ...  \n",
       "1593   0.945435 -0.861924        1  \n",
       "1594  -0.461331  0.062574        0  \n",
       "1595   0.593744  0.709723        1  \n",
       "1597   0.300667 -0.214775        0  \n",
       "1598   0.007591  0.524824        1  \n",
       "\n",
       "[1359 rows x 12 columns]"
      ]
     },
     "execution_count": 35,
     "metadata": {},
     "output_type": "execute_result"
    }
   ],
   "source": [
    "wine_std"
   ]
  },
  {
   "cell_type": "code",
   "execution_count": 36,
   "id": "3f08d63f",
   "metadata": {},
   "outputs": [],
   "source": [
    "#STOP HERE................STOP HERE"
   ]
  },
  {
   "cell_type": "code",
   "execution_count": 37,
   "id": "259b36f2",
   "metadata": {},
   "outputs": [],
   "source": [
    "#Creating deep copy for scaling of Dataframe\n",
    "\n",
    "import copy\n",
    "wine_s = copy.deepcopy(wine)"
   ]
  },
  {
   "cell_type": "code",
   "execution_count": 38,
   "id": "f60e99eb",
   "metadata": {},
   "outputs": [],
   "source": [
    "cols = ['fixed acidity', 'volatile acidity', 'citric acid', 'residual sugar',\n",
    "       'chlorides', 'free sulfur dioxide', 'total sulfur dioxide', 'density',\n",
    "       'pH', 'sulphates', 'alcohol']"
   ]
  },
  {
   "cell_type": "code",
   "execution_count": 39,
   "id": "7913b37a",
   "metadata": {},
   "outputs": [],
   "source": [
    "mms = MinMaxScaler()\n",
    "\n",
    "for i in cols:\n",
    "    wine_s[i] = mms.fit_transform(wine_s[[i]])"
   ]
  },
  {
   "cell_type": "code",
   "execution_count": 40,
   "id": "896dc801",
   "metadata": {},
   "outputs": [
    {
     "data": {
      "text/html": [
       "<div>\n",
       "<style scoped>\n",
       "    .dataframe tbody tr th:only-of-type {\n",
       "        vertical-align: middle;\n",
       "    }\n",
       "\n",
       "    .dataframe tbody tr th {\n",
       "        vertical-align: top;\n",
       "    }\n",
       "\n",
       "    .dataframe thead th {\n",
       "        text-align: right;\n",
       "    }\n",
       "</style>\n",
       "<table border=\"1\" class=\"dataframe\">\n",
       "  <thead>\n",
       "    <tr style=\"text-align: right;\">\n",
       "      <th></th>\n",
       "      <th>fixed acidity</th>\n",
       "      <th>volatile acidity</th>\n",
       "      <th>citric acid</th>\n",
       "      <th>residual sugar</th>\n",
       "      <th>chlorides</th>\n",
       "      <th>free sulfur dioxide</th>\n",
       "      <th>total sulfur dioxide</th>\n",
       "      <th>density</th>\n",
       "      <th>pH</th>\n",
       "      <th>sulphates</th>\n",
       "      <th>alcohol</th>\n",
       "      <th>quality</th>\n",
       "    </tr>\n",
       "  </thead>\n",
       "  <tbody>\n",
       "    <tr>\n",
       "      <th>0</th>\n",
       "      <td>0.247788</td>\n",
       "      <td>0.397260</td>\n",
       "      <td>0.00</td>\n",
       "      <td>0.068493</td>\n",
       "      <td>0.106845</td>\n",
       "      <td>0.140845</td>\n",
       "      <td>0.098940</td>\n",
       "      <td>0.567548</td>\n",
       "      <td>0.606299</td>\n",
       "      <td>0.137725</td>\n",
       "      <td>0.153846</td>\n",
       "      <td>0</td>\n",
       "    </tr>\n",
       "    <tr>\n",
       "      <th>1</th>\n",
       "      <td>0.283186</td>\n",
       "      <td>0.520548</td>\n",
       "      <td>0.00</td>\n",
       "      <td>0.116438</td>\n",
       "      <td>0.143573</td>\n",
       "      <td>0.338028</td>\n",
       "      <td>0.215548</td>\n",
       "      <td>0.494126</td>\n",
       "      <td>0.362205</td>\n",
       "      <td>0.209581</td>\n",
       "      <td>0.215385</td>\n",
       "      <td>0</td>\n",
       "    </tr>\n",
       "    <tr>\n",
       "      <th>2</th>\n",
       "      <td>0.283186</td>\n",
       "      <td>0.438356</td>\n",
       "      <td>0.04</td>\n",
       "      <td>0.095890</td>\n",
       "      <td>0.133556</td>\n",
       "      <td>0.197183</td>\n",
       "      <td>0.169611</td>\n",
       "      <td>0.508811</td>\n",
       "      <td>0.409449</td>\n",
       "      <td>0.191617</td>\n",
       "      <td>0.215385</td>\n",
       "      <td>0</td>\n",
       "    </tr>\n",
       "    <tr>\n",
       "      <th>3</th>\n",
       "      <td>0.584071</td>\n",
       "      <td>0.109589</td>\n",
       "      <td>0.56</td>\n",
       "      <td>0.068493</td>\n",
       "      <td>0.105175</td>\n",
       "      <td>0.225352</td>\n",
       "      <td>0.190813</td>\n",
       "      <td>0.582232</td>\n",
       "      <td>0.330709</td>\n",
       "      <td>0.149701</td>\n",
       "      <td>0.215385</td>\n",
       "      <td>1</td>\n",
       "    </tr>\n",
       "    <tr>\n",
       "      <th>5</th>\n",
       "      <td>0.247788</td>\n",
       "      <td>0.369863</td>\n",
       "      <td>0.00</td>\n",
       "      <td>0.061644</td>\n",
       "      <td>0.105175</td>\n",
       "      <td>0.169014</td>\n",
       "      <td>0.120141</td>\n",
       "      <td>0.567548</td>\n",
       "      <td>0.606299</td>\n",
       "      <td>0.137725</td>\n",
       "      <td>0.153846</td>\n",
       "      <td>0</td>\n",
       "    </tr>\n",
       "    <tr>\n",
       "      <th>...</th>\n",
       "      <td>...</td>\n",
       "      <td>...</td>\n",
       "      <td>...</td>\n",
       "      <td>...</td>\n",
       "      <td>...</td>\n",
       "      <td>...</td>\n",
       "      <td>...</td>\n",
       "      <td>...</td>\n",
       "      <td>...</td>\n",
       "      <td>...</td>\n",
       "      <td>...</td>\n",
       "      <td>...</td>\n",
       "    </tr>\n",
       "    <tr>\n",
       "      <th>1593</th>\n",
       "      <td>0.194690</td>\n",
       "      <td>0.342466</td>\n",
       "      <td>0.08</td>\n",
       "      <td>0.068493</td>\n",
       "      <td>0.093489</td>\n",
       "      <td>0.380282</td>\n",
       "      <td>0.113074</td>\n",
       "      <td>0.472834</td>\n",
       "      <td>0.535433</td>\n",
       "      <td>0.293413</td>\n",
       "      <td>0.169231</td>\n",
       "      <td>1</td>\n",
       "    </tr>\n",
       "    <tr>\n",
       "      <th>1594</th>\n",
       "      <td>0.141593</td>\n",
       "      <td>0.328767</td>\n",
       "      <td>0.08</td>\n",
       "      <td>0.075342</td>\n",
       "      <td>0.130217</td>\n",
       "      <td>0.436620</td>\n",
       "      <td>0.134276</td>\n",
       "      <td>0.354626</td>\n",
       "      <td>0.559055</td>\n",
       "      <td>0.149701</td>\n",
       "      <td>0.323077</td>\n",
       "      <td>0</td>\n",
       "    </tr>\n",
       "    <tr>\n",
       "      <th>1595</th>\n",
       "      <td>0.115044</td>\n",
       "      <td>0.294521</td>\n",
       "      <td>0.10</td>\n",
       "      <td>0.089041</td>\n",
       "      <td>0.083472</td>\n",
       "      <td>0.535211</td>\n",
       "      <td>0.159011</td>\n",
       "      <td>0.370778</td>\n",
       "      <td>0.614173</td>\n",
       "      <td>0.257485</td>\n",
       "      <td>0.430769</td>\n",
       "      <td>1</td>\n",
       "    </tr>\n",
       "    <tr>\n",
       "      <th>1597</th>\n",
       "      <td>0.115044</td>\n",
       "      <td>0.359589</td>\n",
       "      <td>0.12</td>\n",
       "      <td>0.075342</td>\n",
       "      <td>0.105175</td>\n",
       "      <td>0.436620</td>\n",
       "      <td>0.134276</td>\n",
       "      <td>0.396476</td>\n",
       "      <td>0.653543</td>\n",
       "      <td>0.227545</td>\n",
       "      <td>0.276923</td>\n",
       "      <td>0</td>\n",
       "    </tr>\n",
       "    <tr>\n",
       "      <th>1598</th>\n",
       "      <td>0.123894</td>\n",
       "      <td>0.130137</td>\n",
       "      <td>0.47</td>\n",
       "      <td>0.184932</td>\n",
       "      <td>0.091820</td>\n",
       "      <td>0.239437</td>\n",
       "      <td>0.127208</td>\n",
       "      <td>0.397944</td>\n",
       "      <td>0.511811</td>\n",
       "      <td>0.197605</td>\n",
       "      <td>0.400000</td>\n",
       "      <td>1</td>\n",
       "    </tr>\n",
       "  </tbody>\n",
       "</table>\n",
       "<p>1359 rows × 12 columns</p>\n",
       "</div>"
      ],
      "text/plain": [
       "      fixed acidity  volatile acidity  citric acid  residual sugar  chlorides  \\\n",
       "0          0.247788          0.397260         0.00        0.068493   0.106845   \n",
       "1          0.283186          0.520548         0.00        0.116438   0.143573   \n",
       "2          0.283186          0.438356         0.04        0.095890   0.133556   \n",
       "3          0.584071          0.109589         0.56        0.068493   0.105175   \n",
       "5          0.247788          0.369863         0.00        0.061644   0.105175   \n",
       "...             ...               ...          ...             ...        ...   \n",
       "1593       0.194690          0.342466         0.08        0.068493   0.093489   \n",
       "1594       0.141593          0.328767         0.08        0.075342   0.130217   \n",
       "1595       0.115044          0.294521         0.10        0.089041   0.083472   \n",
       "1597       0.115044          0.359589         0.12        0.075342   0.105175   \n",
       "1598       0.123894          0.130137         0.47        0.184932   0.091820   \n",
       "\n",
       "      free sulfur dioxide  total sulfur dioxide   density        pH  \\\n",
       "0                0.140845              0.098940  0.567548  0.606299   \n",
       "1                0.338028              0.215548  0.494126  0.362205   \n",
       "2                0.197183              0.169611  0.508811  0.409449   \n",
       "3                0.225352              0.190813  0.582232  0.330709   \n",
       "5                0.169014              0.120141  0.567548  0.606299   \n",
       "...                   ...                   ...       ...       ...   \n",
       "1593             0.380282              0.113074  0.472834  0.535433   \n",
       "1594             0.436620              0.134276  0.354626  0.559055   \n",
       "1595             0.535211              0.159011  0.370778  0.614173   \n",
       "1597             0.436620              0.134276  0.396476  0.653543   \n",
       "1598             0.239437              0.127208  0.397944  0.511811   \n",
       "\n",
       "      sulphates   alcohol  quality  \n",
       "0      0.137725  0.153846        0  \n",
       "1      0.209581  0.215385        0  \n",
       "2      0.191617  0.215385        0  \n",
       "3      0.149701  0.215385        1  \n",
       "5      0.137725  0.153846        0  \n",
       "...         ...       ...      ...  \n",
       "1593   0.293413  0.169231        1  \n",
       "1594   0.149701  0.323077        0  \n",
       "1595   0.257485  0.430769        1  \n",
       "1597   0.227545  0.276923        0  \n",
       "1598   0.197605  0.400000        1  \n",
       "\n",
       "[1359 rows x 12 columns]"
      ]
     },
     "execution_count": 40,
     "metadata": {},
     "output_type": "execute_result"
    }
   ],
   "source": [
    "wine_s"
   ]
  },
  {
   "cell_type": "code",
   "execution_count": null,
   "id": "bdd4a8e3",
   "metadata": {},
   "outputs": [],
   "source": []
  },
  {
   "cell_type": "code",
   "execution_count": null,
   "id": "f098af70",
   "metadata": {},
   "outputs": [],
   "source": []
  },
  {
   "cell_type": "markdown",
   "id": "02e55ac3",
   "metadata": {},
   "source": [
    "# Feature Selection"
   ]
  },
  {
   "cell_type": "code",
   "execution_count": 41,
   "id": "dd5476f4",
   "metadata": {},
   "outputs": [
    {
     "data": {
      "text/plain": [
       "<AxesSubplot: >"
      ]
     },
     "execution_count": 41,
     "metadata": {},
     "output_type": "execute_result"
    },
    {
     "data": {
      "image/png": "[encoded data removed]",
      "text/plain": [
       "<Figure size 1440x720 with 2 Axes>"
      ]
     },
     "metadata": {
      "needs_background": "light"
     },
     "output_type": "display_data"
    }
   ],
   "source": [
    "#Plotting the heatmap of correlation, darker blue and darker red tiles indicate good relation\n",
    "# darker red- positive higher value, darker blue - negative higher value \n",
    " \n",
    "plt.figure(figsize=(20,10))\n",
    "sns.heatmap(wine.corr(method='spearman'), annot=True, linecolor=\"white\",linewidths=0.65,  fmt=\".2f\", cmap=\"coolwarm\",square=True)#, annot_kws={\"size\":10})"
   ]
  },
  {
   "cell_type": "code",
   "execution_count": 42,
   "id": "2609164e",
   "metadata": {},
   "outputs": [],
   "source": [
    "# def correlation(dataset, threshold):\n",
    "#     col_corr = set()  # Set of all the names of correlated columns\n",
    "#     corr_matrix = dataset.corr()\n",
    "#     for i in range(len(corr_matrix.columns)):\n",
    "#         for j in range(i):\n",
    "#             if abs(corr_matrix.iloc[i, j]) > threshold: # we are interested in absolute coeff value\n",
    "#                 colname = corr_matrix.columns[i]  # getting the name of column\n",
    "#                 col_corr.add(colname)\n",
    "#     return col_corr"
   ]
  },
  {
   "cell_type": "code",
   "execution_count": 43,
   "id": "7012b572",
   "metadata": {},
   "outputs": [],
   "source": [
    "winecorr = wine.corr(method='spearman')"
   ]
  },
  {
   "cell_type": "code",
   "execution_count": 44,
   "id": "d7cd5efe",
   "metadata": {},
   "outputs": [
    {
     "data": {
      "text/plain": [
       "[['total sulfur dioxide', 'free sulfur dioxide'], ['pH', 'fixed acidity']]"
      ]
     },
     "execution_count": 44,
     "metadata": {},
     "output_type": "execute_result"
    }
   ],
   "source": [
    "# Getting the columns which have multicolinearity\n",
    "col_corr = []\n",
    "for i in range (len(winecorr.columns)):\n",
    "    for j in range (i):\n",
    "        if abs(winecorr.iloc[i,j]) > 0.7:\n",
    "            colname1 = winecorr.columns[i]\n",
    "            colname2 = winecorr.columns[j]\n",
    "            col_corr.append([colname1,colname2])\n",
    "col_corr"
   ]
  },
  {
   "cell_type": "code",
   "execution_count": 45,
   "id": "9451b44c",
   "metadata": {},
   "outputs": [
    {
     "data": {
      "text/plain": [
       "fixed acidity           0.077758\n",
       "volatile acidity       -0.335441\n",
       "citric acid             0.168331\n",
       "residual sugar          0.009463\n",
       "chlorides              -0.191999\n",
       "free sulfur dioxide    -0.060640\n",
       "total sulfur dioxide   -0.205190\n",
       "density                -0.172866\n",
       "pH                     -0.001222\n",
       "sulphates               0.335327\n",
       "alcohol                 0.460086\n",
       "quality                 1.000000\n",
       "Name: quality, dtype: float64"
      ]
     },
     "execution_count": 45,
     "metadata": {},
     "output_type": "execute_result"
    }
   ],
   "source": [
    "winecorr['quality']"
   ]
  },
  {
   "cell_type": "markdown",
   "id": "a760ba70",
   "metadata": {},
   "source": [
    "We can observe that pH & free sulfur dioxide columns have multicolinearity and less correlation with target column hence both can be dropped "
   ]
  },
  {
   "cell_type": "code",
   "execution_count": 46,
   "id": "9e12575c",
   "metadata": {},
   "outputs": [
    {
     "data": {
      "text/html": [
       "<div>\n",
       "<style scoped>\n",
       "    .dataframe tbody tr th:only-of-type {\n",
       "        vertical-align: middle;\n",
       "    }\n",
       "\n",
       "    .dataframe tbody tr th {\n",
       "        vertical-align: top;\n",
       "    }\n",
       "\n",
       "    .dataframe thead th {\n",
       "        text-align: right;\n",
       "    }\n",
       "</style>\n",
       "<table border=\"1\" class=\"dataframe\">\n",
       "  <thead>\n",
       "    <tr style=\"text-align: right;\">\n",
       "      <th></th>\n",
       "      <th>fixed acidity</th>\n",
       "      <th>volatile acidity</th>\n",
       "      <th>citric acid</th>\n",
       "      <th>residual sugar</th>\n",
       "      <th>chlorides</th>\n",
       "      <th>total sulfur dioxide</th>\n",
       "      <th>density</th>\n",
       "      <th>sulphates</th>\n",
       "      <th>alcohol</th>\n",
       "      <th>quality</th>\n",
       "    </tr>\n",
       "  </thead>\n",
       "  <tbody>\n",
       "    <tr>\n",
       "      <th>0</th>\n",
       "      <td>-0.524431</td>\n",
       "      <td>0.932000</td>\n",
       "      <td>-1.393258</td>\n",
       "      <td>-0.461157</td>\n",
       "      <td>-0.245623</td>\n",
       "      <td>-0.384050</td>\n",
       "      <td>0.584003</td>\n",
       "      <td>-0.578561</td>\n",
       "      <td>-0.954374</td>\n",
       "      <td>0</td>\n",
       "    </tr>\n",
       "    <tr>\n",
       "      <th>1</th>\n",
       "      <td>-0.294063</td>\n",
       "      <td>1.915800</td>\n",
       "      <td>-1.393258</td>\n",
       "      <td>0.056665</td>\n",
       "      <td>0.200094</td>\n",
       "      <td>0.604073</td>\n",
       "      <td>0.048737</td>\n",
       "      <td>0.124822</td>\n",
       "      <td>-0.584575</td>\n",
       "      <td>0</td>\n",
       "    </tr>\n",
       "    <tr>\n",
       "      <th>2</th>\n",
       "      <td>-0.294063</td>\n",
       "      <td>1.259934</td>\n",
       "      <td>-1.188617</td>\n",
       "      <td>-0.165259</td>\n",
       "      <td>0.078535</td>\n",
       "      <td>0.214813</td>\n",
       "      <td>0.155790</td>\n",
       "      <td>-0.051024</td>\n",
       "      <td>-0.584575</td>\n",
       "      <td>0</td>\n",
       "    </tr>\n",
       "    <tr>\n",
       "      <th>3</th>\n",
       "      <td>1.664067</td>\n",
       "      <td>-1.363534</td>\n",
       "      <td>1.471711</td>\n",
       "      <td>-0.461157</td>\n",
       "      <td>-0.265883</td>\n",
       "      <td>0.394471</td>\n",
       "      <td>0.691057</td>\n",
       "      <td>-0.461331</td>\n",
       "      <td>-0.584575</td>\n",
       "      <td>1</td>\n",
       "    </tr>\n",
       "    <tr>\n",
       "      <th>5</th>\n",
       "      <td>-0.524431</td>\n",
       "      <td>0.713378</td>\n",
       "      <td>-1.393258</td>\n",
       "      <td>-0.535132</td>\n",
       "      <td>-0.265883</td>\n",
       "      <td>-0.204391</td>\n",
       "      <td>0.584003</td>\n",
       "      <td>-0.578561</td>\n",
       "      <td>-0.954374</td>\n",
       "      <td>0</td>\n",
       "    </tr>\n",
       "    <tr>\n",
       "      <th>...</th>\n",
       "      <td>...</td>\n",
       "      <td>...</td>\n",
       "      <td>...</td>\n",
       "      <td>...</td>\n",
       "      <td>...</td>\n",
       "      <td>...</td>\n",
       "      <td>...</td>\n",
       "      <td>...</td>\n",
       "      <td>...</td>\n",
       "      <td>...</td>\n",
       "    </tr>\n",
       "    <tr>\n",
       "      <th>1593</th>\n",
       "      <td>-0.869983</td>\n",
       "      <td>0.494756</td>\n",
       "      <td>-0.983977</td>\n",
       "      <td>-0.461157</td>\n",
       "      <td>-0.407702</td>\n",
       "      <td>-0.264277</td>\n",
       "      <td>-0.106490</td>\n",
       "      <td>0.945435</td>\n",
       "      <td>-0.861924</td>\n",
       "      <td>1</td>\n",
       "    </tr>\n",
       "    <tr>\n",
       "      <th>1594</th>\n",
       "      <td>-1.215536</td>\n",
       "      <td>0.385444</td>\n",
       "      <td>-0.983977</td>\n",
       "      <td>-0.387183</td>\n",
       "      <td>0.038015</td>\n",
       "      <td>-0.084619</td>\n",
       "      <td>-0.968269</td>\n",
       "      <td>-0.461331</td>\n",
       "      <td>0.062574</td>\n",
       "      <td>0</td>\n",
       "    </tr>\n",
       "    <tr>\n",
       "      <th>1595</th>\n",
       "      <td>-1.388312</td>\n",
       "      <td>0.112167</td>\n",
       "      <td>-0.881656</td>\n",
       "      <td>-0.239233</td>\n",
       "      <td>-0.529261</td>\n",
       "      <td>0.124983</td>\n",
       "      <td>-0.850510</td>\n",
       "      <td>0.593744</td>\n",
       "      <td>0.709723</td>\n",
       "      <td>1</td>\n",
       "    </tr>\n",
       "    <tr>\n",
       "      <th>1597</th>\n",
       "      <td>-1.388312</td>\n",
       "      <td>0.631395</td>\n",
       "      <td>-0.779336</td>\n",
       "      <td>-0.387183</td>\n",
       "      <td>-0.265883</td>\n",
       "      <td>-0.084619</td>\n",
       "      <td>-0.663167</td>\n",
       "      <td>0.300667</td>\n",
       "      <td>-0.214775</td>\n",
       "      <td>0</td>\n",
       "    </tr>\n",
       "    <tr>\n",
       "      <th>1598</th>\n",
       "      <td>-1.330720</td>\n",
       "      <td>-1.199567</td>\n",
       "      <td>1.011270</td>\n",
       "      <td>0.796410</td>\n",
       "      <td>-0.427962</td>\n",
       "      <td>-0.144505</td>\n",
       "      <td>-0.652461</td>\n",
       "      <td>0.007591</td>\n",
       "      <td>0.524824</td>\n",
       "      <td>1</td>\n",
       "    </tr>\n",
       "  </tbody>\n",
       "</table>\n",
       "<p>1359 rows × 10 columns</p>\n",
       "</div>"
      ],
      "text/plain": [
       "      fixed acidity  volatile acidity  citric acid  residual sugar  chlorides  \\\n",
       "0         -0.524431          0.932000    -1.393258       -0.461157  -0.245623   \n",
       "1         -0.294063          1.915800    -1.393258        0.056665   0.200094   \n",
       "2         -0.294063          1.259934    -1.188617       -0.165259   0.078535   \n",
       "3          1.664067         -1.363534     1.471711       -0.461157  -0.265883   \n",
       "5         -0.524431          0.713378    -1.393258       -0.535132  -0.265883   \n",
       "...             ...               ...          ...             ...        ...   \n",
       "1593      -0.869983          0.494756    -0.983977       -0.461157  -0.407702   \n",
       "1594      -1.215536          0.385444    -0.983977       -0.387183   0.038015   \n",
       "1595      -1.388312          0.112167    -0.881656       -0.239233  -0.529261   \n",
       "1597      -1.388312          0.631395    -0.779336       -0.387183  -0.265883   \n",
       "1598      -1.330720         -1.199567     1.011270        0.796410  -0.427962   \n",
       "\n",
       "      total sulfur dioxide   density  sulphates   alcohol  quality  \n",
       "0                -0.384050  0.584003  -0.578561 -0.954374        0  \n",
       "1                 0.604073  0.048737   0.124822 -0.584575        0  \n",
       "2                 0.214813  0.155790  -0.051024 -0.584575        0  \n",
       "3                 0.394471  0.691057  -0.461331 -0.584575        1  \n",
       "5                -0.204391  0.584003  -0.578561 -0.954374        0  \n",
       "...                    ...       ...        ...       ...      ...  \n",
       "1593             -0.264277 -0.106490   0.945435 -0.861924        1  \n",
       "1594             -0.084619 -0.968269  -0.461331  0.062574        0  \n",
       "1595              0.124983 -0.850510   0.593744  0.709723        1  \n",
       "1597             -0.084619 -0.663167   0.300667 -0.214775        0  \n",
       "1598             -0.144505 -0.652461   0.007591  0.524824        1  \n",
       "\n",
       "[1359 rows x 10 columns]"
      ]
     },
     "execution_count": 46,
     "metadata": {},
     "output_type": "execute_result"
    }
   ],
   "source": [
    "wine_std2 = copy.deepcopy(wine_std)\n",
    "wine_std2 = wine_std2.drop(['pH','free sulfur dioxide'],axis=1)\n",
    "wine_std2"
   ]
  },
  {
   "cell_type": "code",
   "execution_count": null,
   "id": "e427e8c9",
   "metadata": {},
   "outputs": [],
   "source": []
  },
  {
   "cell_type": "code",
   "execution_count": null,
   "id": "92768b59",
   "metadata": {},
   "outputs": [],
   "source": []
  },
  {
   "cell_type": "markdown",
   "id": "c503a0f4",
   "metadata": {},
   "source": [
    "# Holdout Validation -"
   ]
  },
  {
   "cell_type": "code",
   "execution_count": 47,
   "id": "95a38037",
   "metadata": {},
   "outputs": [],
   "source": [
    "#Seperating the Independant and Dependant features\n",
    "x = wine_std2.drop('quality', axis=1)\n",
    "y = wine_std2['quality']"
   ]
  },
  {
   "cell_type": "code",
   "execution_count": 48,
   "id": "fb10039d",
   "metadata": {},
   "outputs": [
    {
     "data": {
      "text/html": [
       "<div>\n",
       "<style scoped>\n",
       "    .dataframe tbody tr th:only-of-type {\n",
       "        vertical-align: middle;\n",
       "    }\n",
       "\n",
       "    .dataframe tbody tr th {\n",
       "        vertical-align: top;\n",
       "    }\n",
       "\n",
       "    .dataframe thead th {\n",
       "        text-align: right;\n",
       "    }\n",
       "</style>\n",
       "<table border=\"1\" class=\"dataframe\">\n",
       "  <thead>\n",
       "    <tr style=\"text-align: right;\">\n",
       "      <th></th>\n",
       "      <th>fixed acidity</th>\n",
       "      <th>volatile acidity</th>\n",
       "      <th>citric acid</th>\n",
       "      <th>residual sugar</th>\n",
       "      <th>chlorides</th>\n",
       "      <th>total sulfur dioxide</th>\n",
       "      <th>density</th>\n",
       "      <th>sulphates</th>\n",
       "      <th>alcohol</th>\n",
       "    </tr>\n",
       "  </thead>\n",
       "  <tbody>\n",
       "    <tr>\n",
       "      <th>0</th>\n",
       "      <td>-0.524431</td>\n",
       "      <td>0.932000</td>\n",
       "      <td>-1.393258</td>\n",
       "      <td>-0.461157</td>\n",
       "      <td>-0.245623</td>\n",
       "      <td>-0.384050</td>\n",
       "      <td>0.584003</td>\n",
       "      <td>-0.578561</td>\n",
       "      <td>-0.954374</td>\n",
       "    </tr>\n",
       "    <tr>\n",
       "      <th>1</th>\n",
       "      <td>-0.294063</td>\n",
       "      <td>1.915800</td>\n",
       "      <td>-1.393258</td>\n",
       "      <td>0.056665</td>\n",
       "      <td>0.200094</td>\n",
       "      <td>0.604073</td>\n",
       "      <td>0.048737</td>\n",
       "      <td>0.124822</td>\n",
       "      <td>-0.584575</td>\n",
       "    </tr>\n",
       "    <tr>\n",
       "      <th>2</th>\n",
       "      <td>-0.294063</td>\n",
       "      <td>1.259934</td>\n",
       "      <td>-1.188617</td>\n",
       "      <td>-0.165259</td>\n",
       "      <td>0.078535</td>\n",
       "      <td>0.214813</td>\n",
       "      <td>0.155790</td>\n",
       "      <td>-0.051024</td>\n",
       "      <td>-0.584575</td>\n",
       "    </tr>\n",
       "    <tr>\n",
       "      <th>3</th>\n",
       "      <td>1.664067</td>\n",
       "      <td>-1.363534</td>\n",
       "      <td>1.471711</td>\n",
       "      <td>-0.461157</td>\n",
       "      <td>-0.265883</td>\n",
       "      <td>0.394471</td>\n",
       "      <td>0.691057</td>\n",
       "      <td>-0.461331</td>\n",
       "      <td>-0.584575</td>\n",
       "    </tr>\n",
       "    <tr>\n",
       "      <th>5</th>\n",
       "      <td>-0.524431</td>\n",
       "      <td>0.713378</td>\n",
       "      <td>-1.393258</td>\n",
       "      <td>-0.535132</td>\n",
       "      <td>-0.265883</td>\n",
       "      <td>-0.204391</td>\n",
       "      <td>0.584003</td>\n",
       "      <td>-0.578561</td>\n",
       "      <td>-0.954374</td>\n",
       "    </tr>\n",
       "  </tbody>\n",
       "</table>\n",
       "</div>"
      ],
      "text/plain": [
       "   fixed acidity  volatile acidity  citric acid  residual sugar  chlorides  \\\n",
       "0      -0.524431          0.932000    -1.393258       -0.461157  -0.245623   \n",
       "1      -0.294063          1.915800    -1.393258        0.056665   0.200094   \n",
       "2      -0.294063          1.259934    -1.188617       -0.165259   0.078535   \n",
       "3       1.664067         -1.363534     1.471711       -0.461157  -0.265883   \n",
       "5      -0.524431          0.713378    -1.393258       -0.535132  -0.265883   \n",
       "\n",
       "   total sulfur dioxide   density  sulphates   alcohol  \n",
       "0             -0.384050  0.584003  -0.578561 -0.954374  \n",
       "1              0.604073  0.048737   0.124822 -0.584575  \n",
       "2              0.214813  0.155790  -0.051024 -0.584575  \n",
       "3              0.394471  0.691057  -0.461331 -0.584575  \n",
       "5             -0.204391  0.584003  -0.578561 -0.954374  "
      ]
     },
     "execution_count": 48,
     "metadata": {},
     "output_type": "execute_result"
    }
   ],
   "source": [
    "x.head()"
   ]
  },
  {
   "cell_type": "code",
   "execution_count": 49,
   "id": "d039da1e",
   "metadata": {},
   "outputs": [
    {
     "data": {
      "text/plain": [
       "(1359, 9)"
      ]
     },
     "execution_count": 49,
     "metadata": {},
     "output_type": "execute_result"
    }
   ],
   "source": [
    "x.shape "
   ]
  },
  {
   "cell_type": "code",
   "execution_count": 50,
   "id": "b0413838",
   "metadata": {},
   "outputs": [
    {
     "data": {
      "text/plain": [
       "0    0\n",
       "1    0\n",
       "2    0\n",
       "3    1\n",
       "5    0\n",
       "Name: quality, dtype: int64"
      ]
     },
     "execution_count": 50,
     "metadata": {},
     "output_type": "execute_result"
    }
   ],
   "source": [
    "y.head()"
   ]
  },
  {
   "cell_type": "code",
   "execution_count": 51,
   "id": "ec7bb264",
   "metadata": {},
   "outputs": [
    {
     "data": {
      "text/plain": [
       "(1359,)"
      ]
     },
     "execution_count": 51,
     "metadata": {},
     "output_type": "execute_result"
    }
   ],
   "source": [
    "y.shape "
   ]
  },
  {
   "cell_type": "code",
   "execution_count": 52,
   "id": "6fa2ed3e",
   "metadata": {},
   "outputs": [],
   "source": [
    "#Train-Test-Split\n",
    "\n",
    "x_train,x_test,y_train,y_test = train_test_split(x,y,test_size=0.2,random_state=52)"
   ]
  },
  {
   "cell_type": "code",
   "execution_count": 53,
   "id": "f963159e",
   "metadata": {},
   "outputs": [
    {
     "name": "stdout",
     "output_type": "stream",
     "text": [
      "(1359,) (1087,) (272,)\n"
     ]
    }
   ],
   "source": [
    "#Split observation\n",
    "print(y.shape,y_train.shape,y_test.shape)"
   ]
  },
  {
   "cell_type": "markdown",
   "id": "fff80bca",
   "metadata": {},
   "source": [
    "# Model Building"
   ]
  },
  {
   "cell_type": "markdown",
   "id": "ece6f36b",
   "metadata": {},
   "source": [
    "## Random Forest Classifier"
   ]
  },
  {
   "cell_type": "markdown",
   "id": "a773a156",
   "metadata": {},
   "source": [
    "### Raw Model for RFC"
   ]
  },
  {
   "cell_type": "code",
   "execution_count": 54,
   "id": "5551e857",
   "metadata": {},
   "outputs": [],
   "source": [
    "#Model Instance\n",
    "from sklearn.ensemble import RandomForestClassifier\n",
    "rfc_wine = RandomForestClassifier()"
   ]
  },
  {
   "cell_type": "code",
   "execution_count": 55,
   "id": "881a4d53",
   "metadata": {},
   "outputs": [
    {
     "data": {
      "text/html": [
       "<style>#sk-container-id-1 {color: black;background-color: white;}#sk-container-id-1 pre{padding: 0;}#sk-container-id-1 div.sk-toggleable {background-color: white;}#sk-container-id-1 label.sk-toggleable__label {cursor: pointer;display: block;width: 100%;margin-bottom: 0;padding: 0.3em;box-sizing: border-box;text-align: center;}#sk-container-id-1 label.sk-toggleable__label-arrow:before {content: \"▸\";float: left;margin-right: 0.25em;color: #696969;}#sk-container-id-1 label.sk-toggleable__label-arrow:hover:before {color: black;}#sk-container-id-1 div.sk-estimator:hover label.sk-toggleable__label-arrow:before {color: black;}#sk-container-id-1 div.sk-toggleable__content {max-height: 0;max-width: 0;overflow: hidden;text-align: left;background-color: #f0f8ff;}#sk-container-id-1 div.sk-toggleable__content pre {margin: 0.2em;color: black;border-radius: 0.25em;background-color: #f0f8ff;}#sk-container-id-1 input.sk-toggleable__control:checked~div.sk-toggleable__content {max-height: 200px;max-width: 100%;overflow: auto;}#sk-container-id-1 input.sk-toggleable__control:checked~label.sk-toggleable__label-arrow:before {content: \"▾\";}#sk-container-id-1 div.sk-estimator input.sk-toggleable__control:checked~label.sk-toggleable__label {background-color: #d4ebff;}#sk-container-id-1 div.sk-label input.sk-toggleable__control:checked~label.sk-toggleable__label {background-color: #d4ebff;}#sk-container-id-1 input.sk-hidden--visually {border: 0;clip: rect(1px 1px 1px 1px);clip: rect(1px, 1px, 1px, 1px);height: 1px;margin: -1px;overflow: hidden;padding: 0;position: absolute;width: 1px;}#sk-container-id-1 div.sk-estimator {font-family: monospace;background-color: #f0f8ff;border: 1px dotted black;border-radius: 0.25em;box-sizing: border-box;margin-bottom: 0.5em;}#sk-container-id-1 div.sk-estimator:hover {background-color: #d4ebff;}#sk-container-id-1 div.sk-parallel-item::after {content: \"\";width: 100%;border-bottom: 1px solid gray;flex-grow: 1;}#sk-container-id-1 div.sk-label:hover label.sk-toggleable__label {background-color: #d4ebff;}#sk-container-id-1 div.sk-serial::before {content: \"\";position: absolute;border-left: 1px solid gray;box-sizing: border-box;top: 0;bottom: 0;left: 50%;z-index: 0;}#sk-container-id-1 div.sk-serial {display: flex;flex-direction: column;align-items: center;background-color: white;padding-right: 0.2em;padding-left: 0.2em;position: relative;}#sk-container-id-1 div.sk-item {position: relative;z-index: 1;}#sk-container-id-1 div.sk-parallel {display: flex;align-items: stretch;justify-content: center;background-color: white;position: relative;}#sk-container-id-1 div.sk-item::before, #sk-container-id-1 div.sk-parallel-item::before {content: \"\";position: absolute;border-left: 1px solid gray;box-sizing: border-box;top: 0;bottom: 0;left: 50%;z-index: -1;}#sk-container-id-1 div.sk-parallel-item {display: flex;flex-direction: column;z-index: 1;position: relative;background-color: white;}#sk-container-id-1 div.sk-parallel-item:first-child::after {align-self: flex-end;width: 50%;}#sk-container-id-1 div.sk-parallel-item:last-child::after {align-self: flex-start;width: 50%;}#sk-container-id-1 div.sk-parallel-item:only-child::after {width: 0;}#sk-container-id-1 div.sk-dashed-wrapped {border: 1px dashed gray;margin: 0 0.4em 0.5em 0.4em;box-sizing: border-box;padding-bottom: 0.4em;background-color: white;}#sk-container-id-1 div.sk-label label {font-family: monospace;font-weight: bold;display: inline-block;line-height: 1.2em;}#sk-container-id-1 div.sk-label-container {text-align: center;}#sk-container-id-1 div.sk-container {/* jupyter's `normalize.less` sets `[hidden] { display: none; }` but bootstrap.min.css set `[hidden] { display: none !important; }` so we also need the `!important` here to be able to override the default hidden behavior on the sphinx rendered scikit-learn.org. See: https://github.com/scikit-learn/scikit-learn/issues/21755 */display: inline-block !important;position: relative;}#sk-container-id-1 div.sk-text-repr-fallback {display: none;}</style><div id=\"sk-container-id-1\" class=\"sk-top-container\"><div class=\"sk-text-repr-fallback\"><pre>RandomForestClassifier()</pre><b>In a Jupyter environment, please rerun this cell to show the HTML representation or trust the notebook. <br />On GitHub, the HTML representation is unable to render, please try loading this page with nbviewer.org.</b></div><div class=\"sk-container\" hidden><div class=\"sk-item\"><div class=\"sk-estimator sk-toggleable\"><input class=\"sk-toggleable__control sk-hidden--visually\" id=\"sk-estimator-id-1\" type=\"checkbox\" checked><label for=\"sk-estimator-id-1\" class=\"sk-toggleable__label sk-toggleable__label-arrow\">RandomForestClassifier</label><div class=\"sk-toggleable__content\"><pre>RandomForestClassifier()</pre></div></div></div></div></div>"
      ],
      "text/plain": [
       "RandomForestClassifier()"
      ]
     },
     "execution_count": 55,
     "metadata": {},
     "output_type": "execute_result"
    }
   ],
   "source": [
    "#Raw Model Fitting\n",
    "\n",
    "rfc_wine.fit(x_train, y_train)"
   ]
  },
  {
   "cell_type": "code",
   "execution_count": 56,
   "id": "a9d3d861",
   "metadata": {},
   "outputs": [],
   "source": [
    "#Predicting the Target Variable\n",
    "\n",
    "y_pred_test = rfc_wine.predict(x_test)\n",
    "y_pred_train = rfc_wine.predict(x_train)"
   ]
  },
  {
   "cell_type": "code",
   "execution_count": 57,
   "id": "e1ffd8f3",
   "metadata": {},
   "outputs": [],
   "source": [
    "#Raw Model Evaluation\n",
    "#Raw Model performance observation"
   ]
  },
  {
   "cell_type": "code",
   "execution_count": 58,
   "id": "e9e8a11d",
   "metadata": {},
   "outputs": [
    {
     "data": {
      "text/plain": [
       "1.0"
      ]
     },
     "execution_count": 58,
     "metadata": {},
     "output_type": "execute_result"
    }
   ],
   "source": [
    "#Training Accuracy-\n",
    "accuracy_score(y_train,y_pred_train)"
   ]
  },
  {
   "cell_type": "code",
   "execution_count": 59,
   "id": "df563f3e",
   "metadata": {},
   "outputs": [
    {
     "data": {
      "text/plain": [
       "0.7242647058823529"
      ]
     },
     "execution_count": 59,
     "metadata": {},
     "output_type": "execute_result"
    }
   ],
   "source": [
    "#Testing Accuracy-\n",
    "accuracy_score(y_test,y_pred_test)"
   ]
  },
  {
   "cell_type": "code",
   "execution_count": 60,
   "id": "b20cbc19",
   "metadata": {},
   "outputs": [],
   "source": [
    "#Raw Model Precision Recall-"
   ]
  },
  {
   "cell_type": "code",
   "execution_count": 61,
   "id": "dac17ab9",
   "metadata": {},
   "outputs": [
    {
     "data": {
      "text/plain": [
       "0.7615384615384615"
      ]
     },
     "execution_count": 61,
     "metadata": {},
     "output_type": "execute_result"
    }
   ],
   "source": [
    "precision_score(y_test, y_pred_test)"
   ]
  },
  {
   "cell_type": "code",
   "execution_count": 62,
   "id": "5a73dbea",
   "metadata": {},
   "outputs": [
    {
     "data": {
      "text/plain": [
       "0.6923076923076923"
      ]
     },
     "execution_count": 62,
     "metadata": {},
     "output_type": "execute_result"
    }
   ],
   "source": [
    "recall_score(y_test,y_pred_test) "
   ]
  },
  {
   "cell_type": "code",
   "execution_count": 63,
   "id": "0789cb4d",
   "metadata": {},
   "outputs": [
    {
     "name": "stdout",
     "output_type": "stream",
     "text": [
      "              precision    recall  f1-score   support\n",
      "\n",
      "           0       0.69      0.76      0.72       129\n",
      "           1       0.76      0.69      0.73       143\n",
      "\n",
      "    accuracy                           0.72       272\n",
      "   macro avg       0.73      0.73      0.72       272\n",
      "weighted avg       0.73      0.72      0.72       272\n",
      "\n"
     ]
    }
   ],
   "source": [
    "print(classification_report(y_test, y_pred_test))"
   ]
  },
  {
   "cell_type": "code",
   "execution_count": 64,
   "id": "c4d48e39",
   "metadata": {},
   "outputs": [
    {
     "name": "stdout",
     "output_type": "stream",
     "text": [
      "[0.75688073 0.75688073 0.80184332 0.74193548 0.76497696]\n",
      "Random Forest Classifier Mean Score:  76.44999999999999 %\n"
     ]
    }
   ],
   "source": [
    "#Use cross validation technique to solve the problem\n",
    "from sklearn.model_selection import cross_val_score\n",
    "rfc_cv_score = cross_val_score(rfc_wine, x_train, y_train, cv=5)\n",
    "\n",
    "print(rfc_cv_score)\n",
    "print(\"Random Forest Classifier Mean Score: \", rfc_cv_score.mean().round(5)*100,'%')"
   ]
  },
  {
   "cell_type": "code",
   "execution_count": 65,
   "id": "ae4ef696",
   "metadata": {},
   "outputs": [],
   "source": [
    "#Plotting ROC Curve- \n",
    "\n",
    "fpr_rfc, tpr_rfc, thresholds_rfc = roc_curve(y_test, y_pred_test)"
   ]
  },
  {
   "cell_type": "code",
   "execution_count": 66,
   "id": "de5e4ed1",
   "metadata": {},
   "outputs": [
    {
     "data": {
      "image/png": "[encoded data removed]",
      "text/plain": [
       "<Figure size 432x288 with 1 Axes>"
      ]
     },
     "metadata": {
      "needs_background": "light"
     },
     "output_type": "display_data"
    }
   ],
   "source": [
    "plt.plot(fpr_rfc, tpr_rfc, label='Random Forest Classifier')\n",
    "plt.show()"
   ]
  },
  {
   "cell_type": "markdown",
   "id": "497879d8",
   "metadata": {},
   "source": [
    "### Hyperparameter Tuning for RFC"
   ]
  },
  {
   "cell_type": "code",
   "execution_count": 67,
   "id": "5a6be673",
   "metadata": {},
   "outputs": [],
   "source": [
    "#Parameter selection for RFC\n",
    "\n",
    "param_grid = {'n_estimators':np.arange(1,50), \"criterion\":['gini','entropy'], 'max_depth':[3,5,7,11,15,20], 'min_samples_leaf':np.arange(1,10), 'min_samples_split':np.arange(1,10)}"
   ]
  },
  {
   "cell_type": "code",
   "execution_count": 68,
   "id": "e2ccc95a",
   "metadata": {},
   "outputs": [],
   "source": [
    "#HPT with Cross Validation\n",
    "\n",
    "rscv_wine = RandomizedSearchCV(rfc_wine, param_grid, cv=5) "
   ]
  },
  {
   "cell_type": "code",
   "execution_count": 69,
   "id": "f6aadf1f",
   "metadata": {},
   "outputs": [
    {
     "data": {
      "text/html": [
       "<style>#sk-container-id-2 {color: black;background-color: white;}#sk-container-id-2 pre{padding: 0;}#sk-container-id-2 div.sk-toggleable {background-color: white;}#sk-container-id-2 label.sk-toggleable__label {cursor: pointer;display: block;width: 100%;margin-bottom: 0;padding: 0.3em;box-sizing: border-box;text-align: center;}#sk-container-id-2 label.sk-toggleable__label-arrow:before {content: \"▸\";float: left;margin-right: 0.25em;color: #696969;}#sk-container-id-2 label.sk-toggleable__label-arrow:hover:before {color: black;}#sk-container-id-2 div.sk-estimator:hover label.sk-toggleable__label-arrow:before {color: black;}#sk-container-id-2 div.sk-toggleable__content {max-height: 0;max-width: 0;overflow: hidden;text-align: left;background-color: #f0f8ff;}#sk-container-id-2 div.sk-toggleable__content pre {margin: 0.2em;color: black;border-radius: 0.25em;background-color: #f0f8ff;}#sk-container-id-2 input.sk-toggleable__control:checked~div.sk-toggleable__content {max-height: 200px;max-width: 100%;overflow: auto;}#sk-container-id-2 input.sk-toggleable__control:checked~label.sk-toggleable__label-arrow:before {content: \"▾\";}#sk-container-id-2 div.sk-estimator input.sk-toggleable__control:checked~label.sk-toggleable__label {background-color: #d4ebff;}#sk-container-id-2 div.sk-label input.sk-toggleable__control:checked~label.sk-toggleable__label {background-color: #d4ebff;}#sk-container-id-2 input.sk-hidden--visually {border: 0;clip: rect(1px 1px 1px 1px);clip: rect(1px, 1px, 1px, 1px);height: 1px;margin: -1px;overflow: hidden;padding: 0;position: absolute;width: 1px;}#sk-container-id-2 div.sk-estimator {font-family: monospace;background-color: #f0f8ff;border: 1px dotted black;border-radius: 0.25em;box-sizing: border-box;margin-bottom: 0.5em;}#sk-container-id-2 div.sk-estimator:hover {background-color: #d4ebff;}#sk-container-id-2 div.sk-parallel-item::after {content: \"\";width: 100%;border-bottom: 1px solid gray;flex-grow: 1;}#sk-container-id-2 div.sk-label:hover label.sk-toggleable__label {background-color: #d4ebff;}#sk-container-id-2 div.sk-serial::before {content: \"\";position: absolute;border-left: 1px solid gray;box-sizing: border-box;top: 0;bottom: 0;left: 50%;z-index: 0;}#sk-container-id-2 div.sk-serial {display: flex;flex-direction: column;align-items: center;background-color: white;padding-right: 0.2em;padding-left: 0.2em;position: relative;}#sk-container-id-2 div.sk-item {position: relative;z-index: 1;}#sk-container-id-2 div.sk-parallel {display: flex;align-items: stretch;justify-content: center;background-color: white;position: relative;}#sk-container-id-2 div.sk-item::before, #sk-container-id-2 div.sk-parallel-item::before {content: \"\";position: absolute;border-left: 1px solid gray;box-sizing: border-box;top: 0;bottom: 0;left: 50%;z-index: -1;}#sk-container-id-2 div.sk-parallel-item {display: flex;flex-direction: column;z-index: 1;position: relative;background-color: white;}#sk-container-id-2 div.sk-parallel-item:first-child::after {align-self: flex-end;width: 50%;}#sk-container-id-2 div.sk-parallel-item:last-child::after {align-self: flex-start;width: 50%;}#sk-container-id-2 div.sk-parallel-item:only-child::after {width: 0;}#sk-container-id-2 div.sk-dashed-wrapped {border: 1px dashed gray;margin: 0 0.4em 0.5em 0.4em;box-sizing: border-box;padding-bottom: 0.4em;background-color: white;}#sk-container-id-2 div.sk-label label {font-family: monospace;font-weight: bold;display: inline-block;line-height: 1.2em;}#sk-container-id-2 div.sk-label-container {text-align: center;}#sk-container-id-2 div.sk-container {/* jupyter's `normalize.less` sets `[hidden] { display: none; }` but bootstrap.min.css set `[hidden] { display: none !important; }` so we also need the `!important` here to be able to override the default hidden behavior on the sphinx rendered scikit-learn.org. See: https://github.com/scikit-learn/scikit-learn/issues/21755 */display: inline-block !important;position: relative;}#sk-container-id-2 div.sk-text-repr-fallback {display: none;}</style><div id=\"sk-container-id-2\" class=\"sk-top-container\"><div class=\"sk-text-repr-fallback\"><pre>RandomizedSearchCV(cv=5, estimator=RandomForestClassifier(),\n",
       "                   param_distributions={&#x27;criterion&#x27;: [&#x27;gini&#x27;, &#x27;entropy&#x27;],\n",
       "                                        &#x27;max_depth&#x27;: [3, 5, 7, 11, 15, 20],\n",
       "                                        &#x27;min_samples_leaf&#x27;: array([1, 2, 3, 4, 5, 6, 7, 8, 9]),\n",
       "                                        &#x27;min_samples_split&#x27;: array([1, 2, 3, 4, 5, 6, 7, 8, 9]),\n",
       "                                        &#x27;n_estimators&#x27;: array([ 1,  2,  3,  4,  5,  6,  7,  8,  9, 10, 11, 12, 13, 14, 15, 16, 17,\n",
       "       18, 19, 20, 21, 22, 23, 24, 25, 26, 27, 28, 29, 30, 31, 32, 33, 34,\n",
       "       35, 36, 37, 38, 39, 40, 41, 42, 43, 44, 45, 46, 47, 48, 49])})</pre><b>In a Jupyter environment, please rerun this cell to show the HTML representation or trust the notebook. <br />On GitHub, the HTML representation is unable to render, please try loading this page with nbviewer.org.</b></div><div class=\"sk-container\" hidden><div class=\"sk-item sk-dashed-wrapped\"><div class=\"sk-label-container\"><div class=\"sk-label sk-toggleable\"><input class=\"sk-toggleable__control sk-hidden--visually\" id=\"sk-estimator-id-2\" type=\"checkbox\" ><label for=\"sk-estimator-id-2\" class=\"sk-toggleable__label sk-toggleable__label-arrow\">RandomizedSearchCV</label><div class=\"sk-toggleable__content\"><pre>RandomizedSearchCV(cv=5, estimator=RandomForestClassifier(),\n",
       "                   param_distributions={&#x27;criterion&#x27;: [&#x27;gini&#x27;, &#x27;entropy&#x27;],\n",
       "                                        &#x27;max_depth&#x27;: [3, 5, 7, 11, 15, 20],\n",
       "                                        &#x27;min_samples_leaf&#x27;: array([1, 2, 3, 4, 5, 6, 7, 8, 9]),\n",
       "                                        &#x27;min_samples_split&#x27;: array([1, 2, 3, 4, 5, 6, 7, 8, 9]),\n",
       "                                        &#x27;n_estimators&#x27;: array([ 1,  2,  3,  4,  5,  6,  7,  8,  9, 10, 11, 12, 13, 14, 15, 16, 17,\n",
       "       18, 19, 20, 21, 22, 23, 24, 25, 26, 27, 28, 29, 30, 31, 32, 33, 34,\n",
       "       35, 36, 37, 38, 39, 40, 41, 42, 43, 44, 45, 46, 47, 48, 49])})</pre></div></div></div><div class=\"sk-parallel\"><div class=\"sk-parallel-item\"><div class=\"sk-item\"><div class=\"sk-label-container\"><div class=\"sk-label sk-toggleable\"><input class=\"sk-toggleable__control sk-hidden--visually\" id=\"sk-estimator-id-3\" type=\"checkbox\" ><label for=\"sk-estimator-id-3\" class=\"sk-toggleable__label sk-toggleable__label-arrow\">estimator: RandomForestClassifier</label><div class=\"sk-toggleable__content\"><pre>RandomForestClassifier()</pre></div></div></div><div class=\"sk-serial\"><div class=\"sk-item\"><div class=\"sk-estimator sk-toggleable\"><input class=\"sk-toggleable__control sk-hidden--visually\" id=\"sk-estimator-id-4\" type=\"checkbox\" ><label for=\"sk-estimator-id-4\" class=\"sk-toggleable__label sk-toggleable__label-arrow\">RandomForestClassifier</label><div class=\"sk-toggleable__content\"><pre>RandomForestClassifier()</pre></div></div></div></div></div></div></div></div></div></div>"
      ],
      "text/plain": [
       "RandomizedSearchCV(cv=5, estimator=RandomForestClassifier(),\n",
       "                   param_distributions={'criterion': ['gini', 'entropy'],\n",
       "                                        'max_depth': [3, 5, 7, 11, 15, 20],\n",
       "                                        'min_samples_leaf': array([1, 2, 3, 4, 5, 6, 7, 8, 9]),\n",
       "                                        'min_samples_split': array([1, 2, 3, 4, 5, 6, 7, 8, 9]),\n",
       "                                        'n_estimators': array([ 1,  2,  3,  4,  5,  6,  7,  8,  9, 10, 11, 12, 13, 14, 15, 16, 17,\n",
       "       18, 19, 20, 21, 22, 23, 24, 25, 26, 27, 28, 29, 30, 31, 32, 33, 34,\n",
       "       35, 36, 37, 38, 39, 40, 41, 42, 43, 44, 45, 46, 47, 48, 49])})"
      ]
     },
     "execution_count": 69,
     "metadata": {},
     "output_type": "execute_result"
    }
   ],
   "source": [
    "rscv_wine.fit(x_train, y_train)"
   ]
  },
  {
   "cell_type": "code",
   "execution_count": 70,
   "id": "c7fbe139",
   "metadata": {},
   "outputs": [
    {
     "data": {
      "text/html": [
       "<style>#sk-container-id-3 {color: black;background-color: white;}#sk-container-id-3 pre{padding: 0;}#sk-container-id-3 div.sk-toggleable {background-color: white;}#sk-container-id-3 label.sk-toggleable__label {cursor: pointer;display: block;width: 100%;margin-bottom: 0;padding: 0.3em;box-sizing: border-box;text-align: center;}#sk-container-id-3 label.sk-toggleable__label-arrow:before {content: \"▸\";float: left;margin-right: 0.25em;color: #696969;}#sk-container-id-3 label.sk-toggleable__label-arrow:hover:before {color: black;}#sk-container-id-3 div.sk-estimator:hover label.sk-toggleable__label-arrow:before {color: black;}#sk-container-id-3 div.sk-toggleable__content {max-height: 0;max-width: 0;overflow: hidden;text-align: left;background-color: #f0f8ff;}#sk-container-id-3 div.sk-toggleable__content pre {margin: 0.2em;color: black;border-radius: 0.25em;background-color: #f0f8ff;}#sk-container-id-3 input.sk-toggleable__control:checked~div.sk-toggleable__content {max-height: 200px;max-width: 100%;overflow: auto;}#sk-container-id-3 input.sk-toggleable__control:checked~label.sk-toggleable__label-arrow:before {content: \"▾\";}#sk-container-id-3 div.sk-estimator input.sk-toggleable__control:checked~label.sk-toggleable__label {background-color: #d4ebff;}#sk-container-id-3 div.sk-label input.sk-toggleable__control:checked~label.sk-toggleable__label {background-color: #d4ebff;}#sk-container-id-3 input.sk-hidden--visually {border: 0;clip: rect(1px 1px 1px 1px);clip: rect(1px, 1px, 1px, 1px);height: 1px;margin: -1px;overflow: hidden;padding: 0;position: absolute;width: 1px;}#sk-container-id-3 div.sk-estimator {font-family: monospace;background-color: #f0f8ff;border: 1px dotted black;border-radius: 0.25em;box-sizing: border-box;margin-bottom: 0.5em;}#sk-container-id-3 div.sk-estimator:hover {background-color: #d4ebff;}#sk-container-id-3 div.sk-parallel-item::after {content: \"\";width: 100%;border-bottom: 1px solid gray;flex-grow: 1;}#sk-container-id-3 div.sk-label:hover label.sk-toggleable__label {background-color: #d4ebff;}#sk-container-id-3 div.sk-serial::before {content: \"\";position: absolute;border-left: 1px solid gray;box-sizing: border-box;top: 0;bottom: 0;left: 50%;z-index: 0;}#sk-container-id-3 div.sk-serial {display: flex;flex-direction: column;align-items: center;background-color: white;padding-right: 0.2em;padding-left: 0.2em;position: relative;}#sk-container-id-3 div.sk-item {position: relative;z-index: 1;}#sk-container-id-3 div.sk-parallel {display: flex;align-items: stretch;justify-content: center;background-color: white;position: relative;}#sk-container-id-3 div.sk-item::before, #sk-container-id-3 div.sk-parallel-item::before {content: \"\";position: absolute;border-left: 1px solid gray;box-sizing: border-box;top: 0;bottom: 0;left: 50%;z-index: -1;}#sk-container-id-3 div.sk-parallel-item {display: flex;flex-direction: column;z-index: 1;position: relative;background-color: white;}#sk-container-id-3 div.sk-parallel-item:first-child::after {align-self: flex-end;width: 50%;}#sk-container-id-3 div.sk-parallel-item:last-child::after {align-self: flex-start;width: 50%;}#sk-container-id-3 div.sk-parallel-item:only-child::after {width: 0;}#sk-container-id-3 div.sk-dashed-wrapped {border: 1px dashed gray;margin: 0 0.4em 0.5em 0.4em;box-sizing: border-box;padding-bottom: 0.4em;background-color: white;}#sk-container-id-3 div.sk-label label {font-family: monospace;font-weight: bold;display: inline-block;line-height: 1.2em;}#sk-container-id-3 div.sk-label-container {text-align: center;}#sk-container-id-3 div.sk-container {/* jupyter's `normalize.less` sets `[hidden] { display: none; }` but bootstrap.min.css set `[hidden] { display: none !important; }` so we also need the `!important` here to be able to override the default hidden behavior on the sphinx rendered scikit-learn.org. See: https://github.com/scikit-learn/scikit-learn/issues/21755 */display: inline-block !important;position: relative;}#sk-container-id-3 div.sk-text-repr-fallback {display: none;}</style><div id=\"sk-container-id-3\" class=\"sk-top-container\"><div class=\"sk-text-repr-fallback\"><pre>RandomForestClassifier(max_depth=11, min_samples_leaf=3, min_samples_split=1,\n",
       "                       n_estimators=38)</pre><b>In a Jupyter environment, please rerun this cell to show the HTML representation or trust the notebook. <br />On GitHub, the HTML representation is unable to render, please try loading this page with nbviewer.org.</b></div><div class=\"sk-container\" hidden><div class=\"sk-item\"><div class=\"sk-estimator sk-toggleable\"><input class=\"sk-toggleable__control sk-hidden--visually\" id=\"sk-estimator-id-5\" type=\"checkbox\" checked><label for=\"sk-estimator-id-5\" class=\"sk-toggleable__label sk-toggleable__label-arrow\">RandomForestClassifier</label><div class=\"sk-toggleable__content\"><pre>RandomForestClassifier(max_depth=11, min_samples_leaf=3, min_samples_split=1,\n",
       "                       n_estimators=38)</pre></div></div></div></div></div>"
      ],
      "text/plain": [
       "RandomForestClassifier(max_depth=11, min_samples_leaf=3, min_samples_split=1,\n",
       "                       n_estimators=38)"
      ]
     },
     "execution_count": 70,
     "metadata": {},
     "output_type": "execute_result"
    }
   ],
   "source": [
    "rscv_wine.best_estimator_"
   ]
  },
  {
   "cell_type": "markdown",
   "id": "822a7f59",
   "metadata": {},
   "source": [
    "We found out with HPT-\n",
    "- (max_depth=11, min_samples_leaf=2, min_samples_split=4, n_estimators=30)"
   ]
  },
  {
   "cell_type": "markdown",
   "id": "b765f548",
   "metadata": {},
   "source": [
    "### Building enhanced model with HPT findings"
   ]
  },
  {
   "cell_type": "code",
   "execution_count": 71,
   "id": "ee5737ca",
   "metadata": {},
   "outputs": [],
   "source": [
    "hpt_wine = RandomForestClassifier(criterion='entropy',max_depth=11, min_samples_leaf=2, min_samples_split=4, n_estimators=30)"
   ]
  },
  {
   "cell_type": "code",
   "execution_count": 72,
   "id": "7b383132",
   "metadata": {},
   "outputs": [
    {
     "data": {
      "text/html": [
       "<style>#sk-container-id-4 {color: black;background-color: white;}#sk-container-id-4 pre{padding: 0;}#sk-container-id-4 div.sk-toggleable {background-color: white;}#sk-container-id-4 label.sk-toggleable__label {cursor: pointer;display: block;width: 100%;margin-bottom: 0;padding: 0.3em;box-sizing: border-box;text-align: center;}#sk-container-id-4 label.sk-toggleable__label-arrow:before {content: \"▸\";float: left;margin-right: 0.25em;color: #696969;}#sk-container-id-4 label.sk-toggleable__label-arrow:hover:before {color: black;}#sk-container-id-4 div.sk-estimator:hover label.sk-toggleable__label-arrow:before {color: black;}#sk-container-id-4 div.sk-toggleable__content {max-height: 0;max-width: 0;overflow: hidden;text-align: left;background-color: #f0f8ff;}#sk-container-id-4 div.sk-toggleable__content pre {margin: 0.2em;color: black;border-radius: 0.25em;background-color: #f0f8ff;}#sk-container-id-4 input.sk-toggleable__control:checked~div.sk-toggleable__content {max-height: 200px;max-width: 100%;overflow: auto;}#sk-container-id-4 input.sk-toggleable__control:checked~label.sk-toggleable__label-arrow:before {content: \"▾\";}#sk-container-id-4 div.sk-estimator input.sk-toggleable__control:checked~label.sk-toggleable__label {background-color: #d4ebff;}#sk-container-id-4 div.sk-label input.sk-toggleable__control:checked~label.sk-toggleable__label {background-color: #d4ebff;}#sk-container-id-4 input.sk-hidden--visually {border: 0;clip: rect(1px 1px 1px 1px);clip: rect(1px, 1px, 1px, 1px);height: 1px;margin: -1px;overflow: hidden;padding: 0;position: absolute;width: 1px;}#sk-container-id-4 div.sk-estimator {font-family: monospace;background-color: #f0f8ff;border: 1px dotted black;border-radius: 0.25em;box-sizing: border-box;margin-bottom: 0.5em;}#sk-container-id-4 div.sk-estimator:hover {background-color: #d4ebff;}#sk-container-id-4 div.sk-parallel-item::after {content: \"\";width: 100%;border-bottom: 1px solid gray;flex-grow: 1;}#sk-container-id-4 div.sk-label:hover label.sk-toggleable__label {background-color: #d4ebff;}#sk-container-id-4 div.sk-serial::before {content: \"\";position: absolute;border-left: 1px solid gray;box-sizing: border-box;top: 0;bottom: 0;left: 50%;z-index: 0;}#sk-container-id-4 div.sk-serial {display: flex;flex-direction: column;align-items: center;background-color: white;padding-right: 0.2em;padding-left: 0.2em;position: relative;}#sk-container-id-4 div.sk-item {position: relative;z-index: 1;}#sk-container-id-4 div.sk-parallel {display: flex;align-items: stretch;justify-content: center;background-color: white;position: relative;}#sk-container-id-4 div.sk-item::before, #sk-container-id-4 div.sk-parallel-item::before {content: \"\";position: absolute;border-left: 1px solid gray;box-sizing: border-box;top: 0;bottom: 0;left: 50%;z-index: -1;}#sk-container-id-4 div.sk-parallel-item {display: flex;flex-direction: column;z-index: 1;position: relative;background-color: white;}#sk-container-id-4 div.sk-parallel-item:first-child::after {align-self: flex-end;width: 50%;}#sk-container-id-4 div.sk-parallel-item:last-child::after {align-self: flex-start;width: 50%;}#sk-container-id-4 div.sk-parallel-item:only-child::after {width: 0;}#sk-container-id-4 div.sk-dashed-wrapped {border: 1px dashed gray;margin: 0 0.4em 0.5em 0.4em;box-sizing: border-box;padding-bottom: 0.4em;background-color: white;}#sk-container-id-4 div.sk-label label {font-family: monospace;font-weight: bold;display: inline-block;line-height: 1.2em;}#sk-container-id-4 div.sk-label-container {text-align: center;}#sk-container-id-4 div.sk-container {/* jupyter's `normalize.less` sets `[hidden] { display: none; }` but bootstrap.min.css set `[hidden] { display: none !important; }` so we also need the `!important` here to be able to override the default hidden behavior on the sphinx rendered scikit-learn.org. See: https://github.com/scikit-learn/scikit-learn/issues/21755 */display: inline-block !important;position: relative;}#sk-container-id-4 div.sk-text-repr-fallback {display: none;}</style><div id=\"sk-container-id-4\" class=\"sk-top-container\"><div class=\"sk-text-repr-fallback\"><pre>RandomForestClassifier(criterion=&#x27;entropy&#x27;, max_depth=11, min_samples_leaf=2,\n",
       "                       min_samples_split=4, n_estimators=30)</pre><b>In a Jupyter environment, please rerun this cell to show the HTML representation or trust the notebook. <br />On GitHub, the HTML representation is unable to render, please try loading this page with nbviewer.org.</b></div><div class=\"sk-container\" hidden><div class=\"sk-item\"><div class=\"sk-estimator sk-toggleable\"><input class=\"sk-toggleable__control sk-hidden--visually\" id=\"sk-estimator-id-6\" type=\"checkbox\" checked><label for=\"sk-estimator-id-6\" class=\"sk-toggleable__label sk-toggleable__label-arrow\">RandomForestClassifier</label><div class=\"sk-toggleable__content\"><pre>RandomForestClassifier(criterion=&#x27;entropy&#x27;, max_depth=11, min_samples_leaf=2,\n",
       "                       min_samples_split=4, n_estimators=30)</pre></div></div></div></div></div>"
      ],
      "text/plain": [
       "RandomForestClassifier(criterion='entropy', max_depth=11, min_samples_leaf=2,\n",
       "                       min_samples_split=4, n_estimators=30)"
      ]
     },
     "execution_count": 72,
     "metadata": {},
     "output_type": "execute_result"
    }
   ],
   "source": [
    "hpt_wine.fit(x_train,y_train)"
   ]
  },
  {
   "cell_type": "code",
   "execution_count": 73,
   "id": "0521a7df",
   "metadata": {},
   "outputs": [],
   "source": [
    "y_pred_h = hpt_wine.predict(x_test)"
   ]
  },
  {
   "cell_type": "code",
   "execution_count": 74,
   "id": "61bcdd09",
   "metadata": {},
   "outputs": [
    {
     "data": {
      "text/plain": [
       "0.7279411764705882"
      ]
     },
     "execution_count": 74,
     "metadata": {},
     "output_type": "execute_result"
    }
   ],
   "source": [
    "#Testing Accuracy\n",
    "accuracy_score(y_test,y_pred_h)"
   ]
  },
  {
   "cell_type": "code",
   "execution_count": 75,
   "id": "05550cb7",
   "metadata": {},
   "outputs": [],
   "source": [
    "rfc_hpt_testing_acc = accuracy_score(y_test,y_pred_h)"
   ]
  },
  {
   "cell_type": "code",
   "execution_count": 76,
   "id": "de4aba3b",
   "metadata": {},
   "outputs": [],
   "source": [
    "y_pred_h_train = hpt_wine.predict(x_train)"
   ]
  },
  {
   "cell_type": "code",
   "execution_count": 77,
   "id": "52be3d9b",
   "metadata": {},
   "outputs": [
    {
     "data": {
      "text/plain": [
       "0.9622815087396505"
      ]
     },
     "execution_count": 77,
     "metadata": {},
     "output_type": "execute_result"
    }
   ],
   "source": [
    "#Training Accuracy\n",
    "accuracy_score(y_train,y_pred_h_train)"
   ]
  },
  {
   "cell_type": "code",
   "execution_count": 78,
   "id": "2dba10c8",
   "metadata": {},
   "outputs": [],
   "source": [
    "rfc_hpt_training_acc = accuracy_score(y_train,y_pred_h_train)"
   ]
  },
  {
   "cell_type": "code",
   "execution_count": 79,
   "id": "d0f9e5b8",
   "metadata": {},
   "outputs": [
    {
     "data": {
      "text/plain": [
       "0.7482014388489209"
      ]
     },
     "execution_count": 79,
     "metadata": {},
     "output_type": "execute_result"
    }
   ],
   "source": [
    "precision_score(y_test,y_pred_h)"
   ]
  },
  {
   "cell_type": "code",
   "execution_count": 80,
   "id": "070b3baa",
   "metadata": {},
   "outputs": [],
   "source": [
    "rfc_hpt_pre = precision_score(y_test,y_pred_h)"
   ]
  },
  {
   "cell_type": "code",
   "execution_count": 81,
   "id": "62e7fed4",
   "metadata": {},
   "outputs": [
    {
     "data": {
      "text/plain": [
       "0.7272727272727273"
      ]
     },
     "execution_count": 81,
     "metadata": {},
     "output_type": "execute_result"
    }
   ],
   "source": [
    "recall_score(y_test,y_pred_h) "
   ]
  },
  {
   "cell_type": "code",
   "execution_count": 82,
   "id": "8e5395f0",
   "metadata": {},
   "outputs": [],
   "source": [
    "rfc_hpt_rec = recall_score(y_test,y_pred_h) "
   ]
  },
  {
   "cell_type": "code",
   "execution_count": 83,
   "id": "fb8fe20a",
   "metadata": {},
   "outputs": [
    {
     "name": "stdout",
     "output_type": "stream",
     "text": [
      "              precision    recall  f1-score   support\n",
      "\n",
      "           0       0.71      0.73      0.72       129\n",
      "           1       0.75      0.73      0.74       143\n",
      "\n",
      "    accuracy                           0.73       272\n",
      "   macro avg       0.73      0.73      0.73       272\n",
      "weighted avg       0.73      0.73      0.73       272\n",
      "\n"
     ]
    }
   ],
   "source": [
    "print(classification_report(y_test, y_pred_h))"
   ]
  },
  {
   "cell_type": "code",
   "execution_count": 84,
   "id": "f5fd00f6",
   "metadata": {},
   "outputs": [
    {
     "data": {
      "text/plain": [
       "<AxesSubplot: >"
      ]
     },
     "execution_count": 84,
     "metadata": {},
     "output_type": "execute_result"
    },
    {
     "data": {
      "image/png": "[encoded data removed]",
      "text/plain": [
       "<Figure size 432x288 with 1 Axes>"
      ]
     },
     "metadata": {
      "needs_background": "light"
     },
     "output_type": "display_data"
    }
   ],
   "source": [
    "# Plotting the feature importance for Top 10 most important columns\n",
    "feature_importances = pd.Series(hpt_wine.feature_importances_, index=x.columns)\n",
    "feature_importances.nlargest(10).plot(kind='barh')  \n",
    "\n",
    "#Hence we can say that the most impactful feature for classification is 'alcohol'"
   ]
  },
  {
   "cell_type": "markdown",
   "id": "1ff05fcb",
   "metadata": {},
   "source": [
    "# Classification using Logistic Regression"
   ]
  },
  {
   "cell_type": "code",
   "execution_count": 85,
   "id": "afa909e3",
   "metadata": {},
   "outputs": [],
   "source": [
    "from sklearn.linear_model import LogisticRegression "
   ]
  },
  {
   "cell_type": "code",
   "execution_count": 86,
   "id": "f82f67e9",
   "metadata": {},
   "outputs": [],
   "source": [
    "logr = LogisticRegression()"
   ]
  },
  {
   "cell_type": "code",
   "execution_count": 87,
   "id": "0e697844",
   "metadata": {},
   "outputs": [
    {
     "data": {
      "text/html": [
       "<style>#sk-container-id-5 {color: black;background-color: white;}#sk-container-id-5 pre{padding: 0;}#sk-container-id-5 div.sk-toggleable {background-color: white;}#sk-container-id-5 label.sk-toggleable__label {cursor: pointer;display: block;width: 100%;margin-bottom: 0;padding: 0.3em;box-sizing: border-box;text-align: center;}#sk-container-id-5 label.sk-toggleable__label-arrow:before {content: \"▸\";float: left;margin-right: 0.25em;color: #696969;}#sk-container-id-5 label.sk-toggleable__label-arrow:hover:before {color: black;}#sk-container-id-5 div.sk-estimator:hover label.sk-toggleable__label-arrow:before {color: black;}#sk-container-id-5 div.sk-toggleable__content {max-height: 0;max-width: 0;overflow: hidden;text-align: left;background-color: #f0f8ff;}#sk-container-id-5 div.sk-toggleable__content pre {margin: 0.2em;color: black;border-radius: 0.25em;background-color: #f0f8ff;}#sk-container-id-5 input.sk-toggleable__control:checked~div.sk-toggleable__content {max-height: 200px;max-width: 100%;overflow: auto;}#sk-container-id-5 input.sk-toggleable__control:checked~label.sk-toggleable__label-arrow:before {content: \"▾\";}#sk-container-id-5 div.sk-estimator input.sk-toggleable__control:checked~label.sk-toggleable__label {background-color: #d4ebff;}#sk-container-id-5 div.sk-label input.sk-toggleable__control:checked~label.sk-toggleable__label {background-color: #d4ebff;}#sk-container-id-5 input.sk-hidden--visually {border: 0;clip: rect(1px 1px 1px 1px);clip: rect(1px, 1px, 1px, 1px);height: 1px;margin: -1px;overflow: hidden;padding: 0;position: absolute;width: 1px;}#sk-container-id-5 div.sk-estimator {font-family: monospace;background-color: #f0f8ff;border: 1px dotted black;border-radius: 0.25em;box-sizing: border-box;margin-bottom: 0.5em;}#sk-container-id-5 div.sk-estimator:hover {background-color: #d4ebff;}#sk-container-id-5 div.sk-parallel-item::after {content: \"\";width: 100%;border-bottom: 1px solid gray;flex-grow: 1;}#sk-container-id-5 div.sk-label:hover label.sk-toggleable__label {background-color: #d4ebff;}#sk-container-id-5 div.sk-serial::before {content: \"\";position: absolute;border-left: 1px solid gray;box-sizing: border-box;top: 0;bottom: 0;left: 50%;z-index: 0;}#sk-container-id-5 div.sk-serial {display: flex;flex-direction: column;align-items: center;background-color: white;padding-right: 0.2em;padding-left: 0.2em;position: relative;}#sk-container-id-5 div.sk-item {position: relative;z-index: 1;}#sk-container-id-5 div.sk-parallel {display: flex;align-items: stretch;justify-content: center;background-color: white;position: relative;}#sk-container-id-5 div.sk-item::before, #sk-container-id-5 div.sk-parallel-item::before {content: \"\";position: absolute;border-left: 1px solid gray;box-sizing: border-box;top: 0;bottom: 0;left: 50%;z-index: -1;}#sk-container-id-5 div.sk-parallel-item {display: flex;flex-direction: column;z-index: 1;position: relative;background-color: white;}#sk-container-id-5 div.sk-parallel-item:first-child::after {align-self: flex-end;width: 50%;}#sk-container-id-5 div.sk-parallel-item:last-child::after {align-self: flex-start;width: 50%;}#sk-container-id-5 div.sk-parallel-item:only-child::after {width: 0;}#sk-container-id-5 div.sk-dashed-wrapped {border: 1px dashed gray;margin: 0 0.4em 0.5em 0.4em;box-sizing: border-box;padding-bottom: 0.4em;background-color: white;}#sk-container-id-5 div.sk-label label {font-family: monospace;font-weight: bold;display: inline-block;line-height: 1.2em;}#sk-container-id-5 div.sk-label-container {text-align: center;}#sk-container-id-5 div.sk-container {/* jupyter's `normalize.less` sets `[hidden] { display: none; }` but bootstrap.min.css set `[hidden] { display: none !important; }` so we also need the `!important` here to be able to override the default hidden behavior on the sphinx rendered scikit-learn.org. See: https://github.com/scikit-learn/scikit-learn/issues/21755 */display: inline-block !important;position: relative;}#sk-container-id-5 div.sk-text-repr-fallback {display: none;}</style><div id=\"sk-container-id-5\" class=\"sk-top-container\"><div class=\"sk-text-repr-fallback\"><pre>LogisticRegression()</pre><b>In a Jupyter environment, please rerun this cell to show the HTML representation or trust the notebook. <br />On GitHub, the HTML representation is unable to render, please try loading this page with nbviewer.org.</b></div><div class=\"sk-container\" hidden><div class=\"sk-item\"><div class=\"sk-estimator sk-toggleable\"><input class=\"sk-toggleable__control sk-hidden--visually\" id=\"sk-estimator-id-7\" type=\"checkbox\" checked><label for=\"sk-estimator-id-7\" class=\"sk-toggleable__label sk-toggleable__label-arrow\">LogisticRegression</label><div class=\"sk-toggleable__content\"><pre>LogisticRegression()</pre></div></div></div></div></div>"
      ],
      "text/plain": [
       "LogisticRegression()"
      ]
     },
     "execution_count": 87,
     "metadata": {},
     "output_type": "execute_result"
    }
   ],
   "source": [
    "logr.fit(x_train, y_train)"
   ]
  },
  {
   "cell_type": "code",
   "execution_count": 88,
   "id": "127b9be0",
   "metadata": {},
   "outputs": [],
   "source": [
    "y_pred_train = logr.predict(x_train)\n",
    "y_pred_test = logr.predict(x_test)"
   ]
  },
  {
   "cell_type": "code",
   "execution_count": 89,
   "id": "e819ba5d",
   "metadata": {},
   "outputs": [
    {
     "data": {
      "text/plain": [
       "0.7506899724011039"
      ]
     },
     "execution_count": 89,
     "metadata": {},
     "output_type": "execute_result"
    }
   ],
   "source": [
    "#Training Accuracy\n",
    "accuracy_score(y_pred_train, y_train)"
   ]
  },
  {
   "cell_type": "code",
   "execution_count": 90,
   "id": "1df39c96",
   "metadata": {},
   "outputs": [],
   "source": [
    "logr_training_acc = accuracy_score(y_pred_train, y_train)"
   ]
  },
  {
   "cell_type": "code",
   "execution_count": 91,
   "id": "0d6d4c16",
   "metadata": {},
   "outputs": [
    {
     "data": {
      "text/plain": [
       "0.7022058823529411"
      ]
     },
     "execution_count": 91,
     "metadata": {},
     "output_type": "execute_result"
    }
   ],
   "source": [
    "#Testing Accuracy\n",
    "accuracy_score(y_test, y_pred_test)"
   ]
  },
  {
   "cell_type": "code",
   "execution_count": 92,
   "id": "5b5f1bc2",
   "metadata": {},
   "outputs": [],
   "source": [
    "logr_testing_acc = accuracy_score(y_test, y_pred_test)"
   ]
  },
  {
   "cell_type": "code",
   "execution_count": 93,
   "id": "e45cd3b3",
   "metadata": {},
   "outputs": [
    {
     "name": "stdout",
     "output_type": "stream",
     "text": [
      "Logistic Regression Classifier Mean Score:  75.161 %\n"
     ]
    }
   ],
   "source": [
    "print(\"Logistic Regression Classifier Mean Score: \", cross_val_score(logr, x_train, y_train, cv=5).mean().round(5)*100,'%')"
   ]
  },
  {
   "cell_type": "code",
   "execution_count": 94,
   "id": "728626a7",
   "metadata": {},
   "outputs": [
    {
     "data": {
      "text/plain": [
       "0.7279411764705882"
      ]
     },
     "execution_count": 94,
     "metadata": {},
     "output_type": "execute_result"
    }
   ],
   "source": [
    "precision_score(y_test,y_pred_test)"
   ]
  },
  {
   "cell_type": "code",
   "execution_count": 95,
   "id": "2eaa5587",
   "metadata": {},
   "outputs": [],
   "source": [
    "logr_prec = precision_score(y_test,y_pred_test)"
   ]
  },
  {
   "cell_type": "code",
   "execution_count": 96,
   "id": "aaf02647",
   "metadata": {},
   "outputs": [
    {
     "data": {
      "text/plain": [
       "0.6923076923076923"
      ]
     },
     "execution_count": 96,
     "metadata": {},
     "output_type": "execute_result"
    }
   ],
   "source": [
    "recall_score(y_test,y_pred_test) "
   ]
  },
  {
   "cell_type": "code",
   "execution_count": 97,
   "id": "cb215433",
   "metadata": {},
   "outputs": [],
   "source": [
    "logr_rec = recall_score(y_test,y_pred_test)"
   ]
  },
  {
   "cell_type": "code",
   "execution_count": 98,
   "id": "3a0cd275",
   "metadata": {},
   "outputs": [
    {
     "name": "stdout",
     "output_type": "stream",
     "text": [
      "              precision    recall  f1-score   support\n",
      "\n",
      "           0       0.68      0.71      0.69       129\n",
      "           1       0.73      0.69      0.71       143\n",
      "\n",
      "    accuracy                           0.70       272\n",
      "   macro avg       0.70      0.70      0.70       272\n",
      "weighted avg       0.70      0.70      0.70       272\n",
      "\n"
     ]
    }
   ],
   "source": [
    "print(classification_report(y_test, y_pred_test))"
   ]
  },
  {
   "cell_type": "code",
   "execution_count": 99,
   "id": "ab6bec39",
   "metadata": {},
   "outputs": [],
   "source": [
    "#Plotting ROC Curve- \n",
    "\n",
    "fpr_logr, tpr_logr, thresholds_logr = roc_curve(y_test, y_pred_test, pos_label=1)"
   ]
  },
  {
   "cell_type": "code",
   "execution_count": 100,
   "id": "9afc148e",
   "metadata": {},
   "outputs": [
    {
     "data": {
      "image/png": "[encoded data removed]",
      "text/plain": [
       "<Figure size 432x288 with 1 Axes>"
      ]
     },
     "metadata": {
      "needs_background": "light"
     },
     "output_type": "display_data"
    }
   ],
   "source": [
    "plt.plot(fpr_logr, tpr_logr)\n",
    "plt.show()"
   ]
  },
  {
   "cell_type": "markdown",
   "id": "9dfc112a",
   "metadata": {},
   "source": [
    "## Algorithms Comparison"
   ]
  },
  {
   "cell_type": "code",
   "execution_count": 101,
   "id": "c8db4f0d",
   "metadata": {},
   "outputs": [
    {
     "data": {
      "text/html": [
       "<div>\n",
       "<style scoped>\n",
       "    .dataframe tbody tr th:only-of-type {\n",
       "        vertical-align: middle;\n",
       "    }\n",
       "\n",
       "    .dataframe tbody tr th {\n",
       "        vertical-align: top;\n",
       "    }\n",
       "\n",
       "    .dataframe thead th {\n",
       "        text-align: right;\n",
       "    }\n",
       "</style>\n",
       "<table border=\"1\" class=\"dataframe\">\n",
       "  <thead>\n",
       "    <tr style=\"text-align: right;\">\n",
       "      <th></th>\n",
       "      <th>Training Accuracy</th>\n",
       "      <th>Testing Accuracy</th>\n",
       "    </tr>\n",
       "  </thead>\n",
       "  <tbody>\n",
       "    <tr>\n",
       "      <th>RFC</th>\n",
       "      <td>0.962</td>\n",
       "      <td>0.728</td>\n",
       "    </tr>\n",
       "    <tr>\n",
       "      <th>LogR</th>\n",
       "      <td>0.751</td>\n",
       "      <td>0.702</td>\n",
       "    </tr>\n",
       "  </tbody>\n",
       "</table>\n",
       "</div>"
      ],
      "text/plain": [
       "      Training Accuracy  Testing Accuracy\n",
       "RFC               0.962             0.728\n",
       "LogR              0.751             0.702"
      ]
     },
     "execution_count": 101,
     "metadata": {},
     "output_type": "execute_result"
    }
   ],
   "source": [
    "#Algorithm Accuracies\n",
    "modac = pd.DataFrame(columns=['Training Accuracy', 'Testing Accuracy'], index=['RFC', 'LogR'], data=[[round(rfc_hpt_training_acc,3), round(rfc_hpt_testing_acc,3)],[round(logr_training_acc,3),round(logr_testing_acc,3)]])\n",
    "modac"
   ]
  },
  {
   "cell_type": "code",
   "execution_count": 102,
   "id": "93cf571e",
   "metadata": {},
   "outputs": [
    {
     "data": {
      "text/html": [
       "<div>\n",
       "<style scoped>\n",
       "    .dataframe tbody tr th:only-of-type {\n",
       "        vertical-align: middle;\n",
       "    }\n",
       "\n",
       "    .dataframe tbody tr th {\n",
       "        vertical-align: top;\n",
       "    }\n",
       "\n",
       "    .dataframe thead th {\n",
       "        text-align: right;\n",
       "    }\n",
       "</style>\n",
       "<table border=\"1\" class=\"dataframe\">\n",
       "  <thead>\n",
       "    <tr style=\"text-align: right;\">\n",
       "      <th></th>\n",
       "      <th>Testing Precision</th>\n",
       "      <th>Testing Recall</th>\n",
       "    </tr>\n",
       "  </thead>\n",
       "  <tbody>\n",
       "    <tr>\n",
       "      <th>RFC</th>\n",
       "      <td>0.748</td>\n",
       "      <td>0.727</td>\n",
       "    </tr>\n",
       "    <tr>\n",
       "      <th>LogR</th>\n",
       "      <td>0.728</td>\n",
       "      <td>0.692</td>\n",
       "    </tr>\n",
       "  </tbody>\n",
       "</table>\n",
       "</div>"
      ],
      "text/plain": [
       "      Testing Precision  Testing Recall\n",
       "RFC               0.748           0.727\n",
       "LogR              0.728           0.692"
      ]
     },
     "execution_count": 102,
     "metadata": {},
     "output_type": "execute_result"
    }
   ],
   "source": [
    "#Algorithm Precision Recall\n",
    "modac = pd.DataFrame(columns=['Testing Precision', 'Testing Recall'], index=['RFC', 'LogR'], data=[[round(rfc_hpt_pre,3),round(rfc_hpt_rec,3)],[round(logr_prec,3),round(logr_rec,3)]])\n",
    "modac"
   ]
  },
  {
   "cell_type": "markdown",
   "id": "aa6be726",
   "metadata": {},
   "source": [
    "# Conclusion"
   ]
  },
  {
   "cell_type": "markdown",
   "id": "b17562ca",
   "metadata": {},
   "source": [
    "From the results of the models we can observe that the models are performing at around similar level, the Random Forest model has a better chance to learn from the data with similar testing data accuracy along with better precision and recall score hence, we will conclude that the Random Forest Classifier with Hyperparameter tuning is giving us a better result for the problem."
   ]
  },
  {
   "cell_type": "markdown",
   "id": "b1a330b9",
   "metadata": {},
   "source": [
    "# Testpoint Creation"
   ]
  },
  {
   "cell_type": "code",
   "execution_count": 103,
   "id": "020cb444",
   "metadata": {},
   "outputs": [],
   "source": [
    "testpoint = [[7.5,0.5,0.36,6.1,0.071,17.0,102.0,0.9978,3.35]]"
   ]
  },
  {
   "cell_type": "code",
   "execution_count": 104,
   "id": "930ca377",
   "metadata": {},
   "outputs": [
    {
     "name": "stdout",
     "output_type": "stream",
     "text": [
      "For testpoint:  [[7.5, 0.5, 0.36, 6.1, 0.071, 17.0, 102.0, 0.9978, 3.35]]\n",
      "Prediction:0- Good Quality Wine(Rating-3,4 or 5)\n"
     ]
    }
   ],
   "source": [
    "if hpt_wine.predict(testpoint)[0]==0:\n",
    "    print(\"For testpoint: \", testpoint)\n",
    "    print(\"Prediction:0- Good Quality Wine(Rating-3,4 or 5)\")\n",
    "else:\n",
    "    print(\"For testpoint: \", testpoint)\n",
    "    print(\"Prediction:= **1**- Best Quality Wine(Rating-6,7 or 8)\")"
   ]
  },
  {
   "cell_type": "code",
   "execution_count": null,
   "id": "1904ca09",
   "metadata": {},
   "outputs": [],
   "source": []
  },
  {
   "cell_type": "code",
   "execution_count": null,
   "id": "0ca873c4",
   "metadata": {},
   "outputs": [],
   "source": []
  }
 ],
 "metadata": {
  "kernelspec": {
   "display_name": "Python 3 (ipykernel)",
   "language": "python",
   "name": "python3"
  },
  "language_info": {
   "codemirror_mode": {
    "name": "ipython",
    "version": 3
   },
   "file_extension": ".py",
   "mimetype": "text/x-python",
   "name": "python",
   "nbconvert_exporter": "python",
   "pygments_lexer": "ipython3",
   "version": "3.10.9"
  },
  "toc": {
   "base_numbering": 1,
   "nav_menu": {},
   "number_sections": true,
   "sideBar": true,
   "skip_h1_title": false,
   "title_cell": "Table of Contents",
   "title_sidebar": "Contents",
   "toc_cell": false,
   "toc_position": {},
   "toc_section_display": true,
   "toc_window_display": false
  },
  "varInspector": {
   "cols": {
    "lenName": 16,
    "lenType": 16,
    "lenVar": 40
   },
   "kernels_config": {
    "python": {
     "delete_cmd_postfix": "",
     "delete_cmd_prefix": "del ",
     "library": "var_list.py",
     "varRefreshCmd": "print(var_dic_list())"
    },
    "r": {
     "delete_cmd_postfix": ") ",
     "delete_cmd_prefix": "rm(",
     "library": "var_list.r",
     "varRefreshCmd": "cat(var_dic_list()) "
    }
   },
   "types_to_exclude": [
    "module",
    "function",
    "builtin_function_or_method",
    "instance",
    "_Feature"
   ],
   "window_display": false
  }
 },
 "nbformat": 4,
 "nbformat_minor": 5
}
